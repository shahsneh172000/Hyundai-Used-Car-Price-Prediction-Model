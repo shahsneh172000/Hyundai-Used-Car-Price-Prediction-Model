{
 "cells": [
  {
   "cell_type": "code",
   "execution_count": 76,
   "metadata": {},
   "outputs": [],
   "source": [
    "import numpy as np\n",
    "import pandas as pd\n",
    "import seaborn as sn\n",
    "import matplotlib.pyplot as plt"
   ]
  },
  {
   "cell_type": "code",
   "execution_count": 77,
   "metadata": {},
   "outputs": [],
   "source": [
    "df = pd.read_csv(\"data\\\\Hyundai_ml.csv\")"
   ]
  },
  {
   "cell_type": "code",
   "execution_count": 78,
   "metadata": {},
   "outputs": [
    {
     "data": {
      "text/html": [
       "<div>\n",
       "<style scoped>\n",
       "    .dataframe tbody tr th:only-of-type {\n",
       "        vertical-align: middle;\n",
       "    }\n",
       "\n",
       "    .dataframe tbody tr th {\n",
       "        vertical-align: top;\n",
       "    }\n",
       "\n",
       "    .dataframe thead th {\n",
       "        text-align: right;\n",
       "    }\n",
       "</style>\n",
       "<table border=\"1\" class=\"dataframe\">\n",
       "  <thead>\n",
       "    <tr style=\"text-align: right;\">\n",
       "      <th></th>\n",
       "      <th>Unnamed: 0</th>\n",
       "      <th>year</th>\n",
       "      <th>price</th>\n",
       "      <th>total_run</th>\n",
       "      <th>tax</th>\n",
       "      <th>engineSize</th>\n",
       "      <th>mileage_lit</th>\n",
       "      <th>model_ I10</th>\n",
       "      <th>model_ I20</th>\n",
       "      <th>model_ I30</th>\n",
       "      <th>...</th>\n",
       "      <th>model_ Ioniq</th>\n",
       "      <th>model_ Kona</th>\n",
       "      <th>model_ Santa Fe</th>\n",
       "      <th>model_ Tucson</th>\n",
       "      <th>transmission_Automatic</th>\n",
       "      <th>transmission_Manual</th>\n",
       "      <th>transmission_Semi-Auto</th>\n",
       "      <th>fule_Diesel</th>\n",
       "      <th>fule_Hybrid</th>\n",
       "      <th>fule_Petrol</th>\n",
       "    </tr>\n",
       "  </thead>\n",
       "  <tbody>\n",
       "    <tr>\n",
       "      <th>0</th>\n",
       "      <td>0</td>\n",
       "      <td>2017</td>\n",
       "      <td>7999</td>\n",
       "      <td>17307</td>\n",
       "      <td>145</td>\n",
       "      <td>1.2</td>\n",
       "      <td>15.56</td>\n",
       "      <td>0</td>\n",
       "      <td>1</td>\n",
       "      <td>0</td>\n",
       "      <td>...</td>\n",
       "      <td>0</td>\n",
       "      <td>0</td>\n",
       "      <td>0</td>\n",
       "      <td>0</td>\n",
       "      <td>0</td>\n",
       "      <td>1</td>\n",
       "      <td>0</td>\n",
       "      <td>0</td>\n",
       "      <td>0</td>\n",
       "      <td>1</td>\n",
       "    </tr>\n",
       "    <tr>\n",
       "      <th>1</th>\n",
       "      <td>1</td>\n",
       "      <td>2016</td>\n",
       "      <td>14499</td>\n",
       "      <td>25233</td>\n",
       "      <td>235</td>\n",
       "      <td>2.0</td>\n",
       "      <td>11.49</td>\n",
       "      <td>0</td>\n",
       "      <td>0</td>\n",
       "      <td>0</td>\n",
       "      <td>...</td>\n",
       "      <td>0</td>\n",
       "      <td>0</td>\n",
       "      <td>0</td>\n",
       "      <td>1</td>\n",
       "      <td>1</td>\n",
       "      <td>0</td>\n",
       "      <td>0</td>\n",
       "      <td>1</td>\n",
       "      <td>0</td>\n",
       "      <td>0</td>\n",
       "    </tr>\n",
       "    <tr>\n",
       "      <th>2</th>\n",
       "      <td>2</td>\n",
       "      <td>2016</td>\n",
       "      <td>11399</td>\n",
       "      <td>37877</td>\n",
       "      <td>30</td>\n",
       "      <td>1.7</td>\n",
       "      <td>16.30</td>\n",
       "      <td>0</td>\n",
       "      <td>0</td>\n",
       "      <td>0</td>\n",
       "      <td>...</td>\n",
       "      <td>0</td>\n",
       "      <td>0</td>\n",
       "      <td>0</td>\n",
       "      <td>1</td>\n",
       "      <td>0</td>\n",
       "      <td>1</td>\n",
       "      <td>0</td>\n",
       "      <td>1</td>\n",
       "      <td>0</td>\n",
       "      <td>0</td>\n",
       "    </tr>\n",
       "    <tr>\n",
       "      <th>3</th>\n",
       "      <td>3</td>\n",
       "      <td>2016</td>\n",
       "      <td>6499</td>\n",
       "      <td>23789</td>\n",
       "      <td>20</td>\n",
       "      <td>1.0</td>\n",
       "      <td>15.88</td>\n",
       "      <td>1</td>\n",
       "      <td>0</td>\n",
       "      <td>0</td>\n",
       "      <td>...</td>\n",
       "      <td>0</td>\n",
       "      <td>0</td>\n",
       "      <td>0</td>\n",
       "      <td>0</td>\n",
       "      <td>0</td>\n",
       "      <td>1</td>\n",
       "      <td>0</td>\n",
       "      <td>0</td>\n",
       "      <td>0</td>\n",
       "      <td>1</td>\n",
       "    </tr>\n",
       "    <tr>\n",
       "      <th>4</th>\n",
       "      <td>4</td>\n",
       "      <td>2015</td>\n",
       "      <td>10199</td>\n",
       "      <td>33177</td>\n",
       "      <td>160</td>\n",
       "      <td>2.0</td>\n",
       "      <td>13.58</td>\n",
       "      <td>0</td>\n",
       "      <td>0</td>\n",
       "      <td>0</td>\n",
       "      <td>...</td>\n",
       "      <td>0</td>\n",
       "      <td>0</td>\n",
       "      <td>0</td>\n",
       "      <td>0</td>\n",
       "      <td>0</td>\n",
       "      <td>1</td>\n",
       "      <td>0</td>\n",
       "      <td>1</td>\n",
       "      <td>0</td>\n",
       "      <td>0</td>\n",
       "    </tr>\n",
       "  </tbody>\n",
       "</table>\n",
       "<p>5 rows × 24 columns</p>\n",
       "</div>"
      ],
      "text/plain": [
       "   Unnamed: 0  year  price  total_run  tax  engineSize  mileage_lit  \\\n",
       "0           0  2017   7999      17307  145         1.2        15.56   \n",
       "1           1  2016  14499      25233  235         2.0        11.49   \n",
       "2           2  2016  11399      37877   30         1.7        16.30   \n",
       "3           3  2016   6499      23789   20         1.0        15.88   \n",
       "4           4  2015  10199      33177  160         2.0        13.58   \n",
       "\n",
       "   model_ I10  model_ I20  model_ I30  ...  model_ Ioniq  model_ Kona  \\\n",
       "0           0           1           0  ...             0            0   \n",
       "1           0           0           0  ...             0            0   \n",
       "2           0           0           0  ...             0            0   \n",
       "3           1           0           0  ...             0            0   \n",
       "4           0           0           0  ...             0            0   \n",
       "\n",
       "   model_ Santa Fe  model_ Tucson  transmission_Automatic  \\\n",
       "0                0              0                       0   \n",
       "1                0              1                       1   \n",
       "2                0              1                       0   \n",
       "3                0              0                       0   \n",
       "4                0              0                       0   \n",
       "\n",
       "   transmission_Manual  transmission_Semi-Auto  fule_Diesel  fule_Hybrid  \\\n",
       "0                    1                       0            0            0   \n",
       "1                    0                       0            1            0   \n",
       "2                    1                       0            1            0   \n",
       "3                    1                       0            0            0   \n",
       "4                    1                       0            1            0   \n",
       "\n",
       "   fule_Petrol  \n",
       "0            1  \n",
       "1            0  \n",
       "2            0  \n",
       "3            1  \n",
       "4            0  \n",
       "\n",
       "[5 rows x 24 columns]"
      ]
     },
     "execution_count": 78,
     "metadata": {},
     "output_type": "execute_result"
    }
   ],
   "source": [
    "df.head()"
   ]
  },
  {
   "cell_type": "code",
   "execution_count": 79,
   "metadata": {},
   "outputs": [
    {
     "data": {
      "text/plain": [
       "((4782, 23), (4782,))"
      ]
     },
     "execution_count": 79,
     "metadata": {},
     "output_type": "execute_result"
    }
   ],
   "source": [
    "from sklearn.model_selection import train_test_split\n",
    "x = df.drop('price',axis=1)\n",
    "y = df['price']\n",
    "x.shape,y.shape"
   ]
  },
  {
   "cell_type": "code",
   "execution_count": 80,
   "metadata": {},
   "outputs": [],
   "source": [
    "x_train , x_test , y_train , y_test = train_test_split(x,y,test_size=0.2,random_state=51)"
   ]
  },
  {
   "cell_type": "code",
   "execution_count": 81,
   "metadata": {},
   "outputs": [
    {
     "data": {
      "text/plain": [
       "((3825, 23), (957, 23), (3825,), (957,))"
      ]
     },
     "execution_count": 81,
     "metadata": {},
     "output_type": "execute_result"
    }
   ],
   "source": [
    "x_train.shape , x_test.shape , y_train.shape , y_test.shape"
   ]
  },
  {
   "cell_type": "code",
   "execution_count": 89,
   "metadata": {},
   "outputs": [],
   "source": [
    "from sklearn.preprocessing import StandardScaler\n",
    "sc = StandardScaler()\n",
    "\n",
    "q = sc.fit(x_train)\n",
    "x_train = sc.transform(x_train)\n",
    "x_test = sc.transform(x_test)"
   ]
  },
  {
   "cell_type": "code",
   "execution_count": 107,
   "metadata": {},
   "outputs": [],
   "source": [
    "x = np.insert(x_train,23,1,axis=1)\n",
    "y = np.array(y_train)\n",
    "y = np.reshape(y,(3825,1)) "
   ]
  },
  {
   "cell_type": "code",
   "execution_count": 108,
   "metadata": {},
   "outputs": [
    {
     "data": {
      "text/plain": [
       "((3825, 24), (3825, 1))"
      ]
     },
     "execution_count": 108,
     "metadata": {},
     "output_type": "execute_result"
    }
   ],
   "source": [
    "x.shape,y.shape"
   ]
  },
  {
   "cell_type": "code",
   "execution_count": 121,
   "metadata": {},
   "outputs": [
    {
     "name": "stdout",
     "output_type": "stream",
     "text": [
      "[1.15511627e+08]\n",
      "[73982453.436605]\n",
      "[48624820.04902029]\n",
      "[32590983.35576842]\n",
      "[22349787.6712388]\n",
      "[15779483.16031935]\n",
      "[11551661.61073967]\n",
      "[8823369.8413778]\n",
      "[7056958.33626714]\n",
      "[5908672.10776843]\n",
      "[5158386.31349577]\n",
      "[4664960.66183383]\n",
      "[4337780.18449057]\n",
      "[4118582.98879228]\n",
      "[3969843.70288457]\n",
      "[3867341.21988669]\n",
      "[3795399.92689483]\n",
      "[3743840.46116592]\n",
      "[3706024.32747198]\n",
      "[3677598.8585193]\n",
      "[3655690.83597577]\n",
      "[3638387.71775147]\n",
      "[3624403.36061321]\n",
      "[3612862.19217038]\n",
      "[3603159.50612462]\n",
      "[3594870.74038012]\n",
      "[3587692.3235005]\n",
      "[3581402.90665022]\n",
      "[3575837.79278456]\n",
      "[3570871.93685659]\n",
      "[3566408.53503199]\n",
      "[3562371.27694364]\n",
      "[3558699.01394959]\n",
      "[3555342.03338029]\n",
      "[3552259.41050821]\n",
      "[3549417.09197404]\n",
      "[3546786.48226656]\n",
      "[3544343.38142601]\n",
      "[3542067.17208647]\n",
      "[3539940.18671803]\n",
      "[3537947.20753097]\n",
      "[3536075.06586674]\n",
      "[3534312.31753819]\n",
      "[3532648.97712286]\n",
      "[3531076.29870973]\n",
      "[3529586.59373796]\n",
      "[3528173.07879146]\n",
      "[3526829.74781999]\n",
      "[3525551.26443734]\n",
      "[3524332.87083152]\n",
      "[3523170.31049438]\n",
      "[3522059.76249892]\n",
      "[3520997.7854617]\n",
      "[3519981.26965342]\n",
      "[3519007.39598266]\n",
      "[3518073.60079052]\n",
      "[3517177.545568]\n",
      "[3516317.09085155]\n",
      "[3515490.27367105]\n",
      "[3514695.28802293]\n",
      "[3513930.46792405]\n",
      "[3513194.27267021]\n",
      "[3512485.27398192]\n",
      "[3511802.14476749]\n",
      "[3511143.64927513]\n",
      "[3510508.6344401]\n",
      "[3509896.02226152]\n",
      "[3509304.80306851]\n",
      "[3508734.02955549]\n",
      "[3508182.81148476]\n",
      "[3507650.31096834]\n",
      "[3507135.73825464]\n",
      "[3506638.34795547]\n",
      "[3506157.43565822]\n",
      "[3505692.33487599]\n",
      "[3505242.41429451]\n",
      "[3504807.0752808]\n",
      "[3504385.74962292]\n",
      "[3503977.89747442]\n",
      "[3503583.0054805]\n",
      "[3503200.58506594]\n",
      "[3502830.17086737]\n",
      "[3502471.31929467]\n",
      "[3502123.60720815]\n",
      "[3501786.6306999]\n",
      "[3501460.00396884]\n",
      "[3501143.35828064]\n",
      "[3500836.34100432]\n",
      "[3500538.61471837]\n",
      "[3500249.85638033]\n",
      "[3499969.75655398]\n",
      "[3499698.0186891]\n",
      "[3499434.35844968]\n",
      "[3499178.503086]\n",
      "[3498930.19084746]\n",
      "[3498689.17043266]\n",
      "[3498455.20047377]\n",
      "[3498228.04905279]\n",
      "[3498007.49324693]\n",
      "[3497793.31870125]\n",
      "[  147.23846659  1930.12473238 -1171.61744977  -746.26815313\n",
      "  1593.5712657  -1867.32228707  -816.59370809  -439.3518364\n",
      "   139.06468671   -61.3506556   -670.77385019  -526.55585229\n",
      "   -61.52018114   319.27070384   484.2486179   1281.49476111\n",
      "   400.100662     -17.39547184  -275.947264     392.2468309\n",
      "    58.41878687  1161.29793904  -666.22416928 12788.70614119]\n"
     ]
    }
   ],
   "source": [
    "def cost(data,params):\n",
    "    tot_cost = 0\n",
    "    for i in range(3825):\n",
    "        tot_cost += (1/3825)*((data[i]*params).sum() - y[i])**2\n",
    "    return tot_cost\n",
    "\n",
    "def gd(data,params,lrate,itr_val):\n",
    "    for i in range(itr_val):\n",
    "        slope = np.zeros(24)\n",
    "        for j in range(3825):\n",
    "            for k in range(24):\n",
    "                slope[k] += (1/3825)*((data[j]*params).sum()-y[j])*data[j][k]\n",
    "        params = params - lrate * slope\n",
    "        print(cost(data,params))\n",
    "    return params\n",
    "\n",
    "params = np.zeros(24)\n",
    "lrate = 0.2\n",
    "itr_val = 100 \n",
    "params = gd(x,params,lrate,itr_val)\n",
    "print(params)"
   ]
  },
  {
   "cell_type": "code",
   "execution_count": 114,
   "metadata": {},
   "outputs": [
    {
     "data": {
      "text/plain": [
       "1877.415899287915"
      ]
     },
     "execution_count": 114,
     "metadata": {},
     "output_type": "execute_result"
    }
   ],
   "source": [
    "np.sqrt(3524690.45889905)"
   ]
  },
  {
   "cell_type": "code",
   "execution_count": 122,
   "metadata": {},
   "outputs": [
    {
     "data": {
      "text/plain": [
       "1870.2388400151597"
      ]
     },
     "execution_count": 122,
     "metadata": {},
     "output_type": "execute_result"
    }
   ],
   "source": [
    "np.sqrt(3497793.31870125)"
   ]
  },
  {
   "cell_type": "code",
   "execution_count": 119,
   "metadata": {},
   "outputs": [],
   "source": [
    "l=[ 1.46658657e+02,  1.88386913e+03, -1.22084675e+03, -7.06718342e+02,\n",
    "  1.49038891e+03, -1.68394252e+03, -9.42941447e+02, -5.01631595e+02,\n",
    "  1.19611718e+02, -3.92035660e+01, -5.44048095e+02, -5.42913810e+02,\n",
    " -2.43652181e+01,  3.12767031e+02,  4.60098024e+02,  1.38854530e+03,\n",
    "  4.82374575e+02,  4.00580026e+00, -2.98634040e+02,  4.00109685e+02,\n",
    "  7.29578619e+00,  1.08112324e+03, -5.75074818e+02,  1.27883665e+04,]\n"
   ]
  },
  {
   "cell_type": "code",
   "execution_count": 120,
   "metadata": {},
   "outputs": [
    {
     "data": {
      "text/plain": [
       "24"
      ]
     },
     "execution_count": 120,
     "metadata": {},
     "output_type": "execute_result"
    }
   ],
   "source": [
    "len(l)"
   ]
  },
  {
   "cell_type": "code",
   "execution_count": null,
   "metadata": {},
   "outputs": [],
   "source": []
  }
 ],
 "metadata": {
  "kernelspec": {
   "display_name": "Python 3",
   "language": "python",
   "name": "python3"
  },
  "language_info": {
   "codemirror_mode": {
    "name": "ipython",
    "version": 3
   },
   "file_extension": ".py",
   "mimetype": "text/x-python",
   "name": "python",
   "nbconvert_exporter": "python",
   "pygments_lexer": "ipython3",
   "version": "3.8.5"
  }
 },
 "nbformat": 4,
 "nbformat_minor": 4
}
