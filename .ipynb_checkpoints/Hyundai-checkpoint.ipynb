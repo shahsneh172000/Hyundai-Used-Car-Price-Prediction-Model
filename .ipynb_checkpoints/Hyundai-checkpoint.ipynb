{
 "cells": [
  {
   "cell_type": "code",
   "execution_count": 1,
   "metadata": {},
   "outputs": [],
   "source": [
    "import numpy as np\n",
    "import pandas as pd\n",
    "import seaborn as sn\n",
    "import matplotlib.pyplot as plt"
   ]
  },
  {
   "cell_type": "code",
   "execution_count": 2,
   "metadata": {},
   "outputs": [],
   "source": [
    "df = pd.read_csv(r\"C:\\\\Users\\\\Sneh\\\\Documents\\\\Project\\\\Hyundai\\\\data\\\\hyundai.csv\")"
   ]
  },
  {
   "cell_type": "code",
   "execution_count": 3,
   "metadata": {},
   "outputs": [
    {
     "data": {
      "text/html": [
       "<div>\n",
       "<style scoped>\n",
       "    .dataframe tbody tr th:only-of-type {\n",
       "        vertical-align: middle;\n",
       "    }\n",
       "\n",
       "    .dataframe tbody tr th {\n",
       "        vertical-align: top;\n",
       "    }\n",
       "\n",
       "    .dataframe thead th {\n",
       "        text-align: right;\n",
       "    }\n",
       "</style>\n",
       "<table border=\"1\" class=\"dataframe\">\n",
       "  <thead>\n",
       "    <tr style=\"text-align: right;\">\n",
       "      <th></th>\n",
       "      <th>model</th>\n",
       "      <th>year</th>\n",
       "      <th>price</th>\n",
       "      <th>transmission</th>\n",
       "      <th>total_run</th>\n",
       "      <th>fule</th>\n",
       "      <th>tax</th>\n",
       "      <th>mileage</th>\n",
       "      <th>engineSize</th>\n",
       "    </tr>\n",
       "  </thead>\n",
       "  <tbody>\n",
       "    <tr>\n",
       "      <th>0</th>\n",
       "      <td>I20</td>\n",
       "      <td>2017</td>\n",
       "      <td>7999</td>\n",
       "      <td>Manual</td>\n",
       "      <td>17307</td>\n",
       "      <td>Petrol</td>\n",
       "      <td>145</td>\n",
       "      <td>58.9</td>\n",
       "      <td>1.2</td>\n",
       "    </tr>\n",
       "    <tr>\n",
       "      <th>1</th>\n",
       "      <td>Tucson</td>\n",
       "      <td>2016</td>\n",
       "      <td>14499</td>\n",
       "      <td>Automatic</td>\n",
       "      <td>25233</td>\n",
       "      <td>Diesel</td>\n",
       "      <td>235</td>\n",
       "      <td>43.5</td>\n",
       "      <td>2.0</td>\n",
       "    </tr>\n",
       "    <tr>\n",
       "      <th>2</th>\n",
       "      <td>Tucson</td>\n",
       "      <td>2016</td>\n",
       "      <td>11399</td>\n",
       "      <td>Manual</td>\n",
       "      <td>37877</td>\n",
       "      <td>Diesel</td>\n",
       "      <td>30</td>\n",
       "      <td>61.7</td>\n",
       "      <td>1.7</td>\n",
       "    </tr>\n",
       "    <tr>\n",
       "      <th>3</th>\n",
       "      <td>I10</td>\n",
       "      <td>2016</td>\n",
       "      <td>6499</td>\n",
       "      <td>Manual</td>\n",
       "      <td>23789</td>\n",
       "      <td>Petrol</td>\n",
       "      <td>20</td>\n",
       "      <td>60.1</td>\n",
       "      <td>1.0</td>\n",
       "    </tr>\n",
       "    <tr>\n",
       "      <th>4</th>\n",
       "      <td>IX35</td>\n",
       "      <td>2015</td>\n",
       "      <td>10199</td>\n",
       "      <td>Manual</td>\n",
       "      <td>33177</td>\n",
       "      <td>Diesel</td>\n",
       "      <td>160</td>\n",
       "      <td>51.4</td>\n",
       "      <td>2.0</td>\n",
       "    </tr>\n",
       "  </tbody>\n",
       "</table>\n",
       "</div>"
      ],
      "text/plain": [
       "     model  year  price transmission  total_run    fule  tax  mileage  \\\n",
       "0      I20  2017   7999       Manual      17307  Petrol  145     58.9   \n",
       "1   Tucson  2016  14499    Automatic      25233  Diesel  235     43.5   \n",
       "2   Tucson  2016  11399       Manual      37877  Diesel   30     61.7   \n",
       "3      I10  2016   6499       Manual      23789  Petrol   20     60.1   \n",
       "4     IX35  2015  10199       Manual      33177  Diesel  160     51.4   \n",
       "\n",
       "   engineSize  \n",
       "0         1.2  \n",
       "1         2.0  \n",
       "2         1.7  \n",
       "3         1.0  \n",
       "4         2.0  "
      ]
     },
     "execution_count": 3,
     "metadata": {},
     "output_type": "execute_result"
    }
   ],
   "source": [
    "df.head()"
   ]
  },
  {
   "cell_type": "code",
   "execution_count": 4,
   "metadata": {},
   "outputs": [
    {
     "name": "stdout",
     "output_type": "stream",
     "text": [
      "<class 'pandas.core.frame.DataFrame'>\n",
      "RangeIndex: 4860 entries, 0 to 4859\n",
      "Data columns (total 9 columns):\n",
      " #   Column        Non-Null Count  Dtype  \n",
      "---  ------        --------------  -----  \n",
      " 0   model         4860 non-null   object \n",
      " 1   year          4860 non-null   int64  \n",
      " 2   price         4860 non-null   int64  \n",
      " 3   transmission  4860 non-null   object \n",
      " 4   total_run     4860 non-null   int64  \n",
      " 5   fule          4860 non-null   object \n",
      " 6   tax           4860 non-null   int64  \n",
      " 7   mileage       4860 non-null   float64\n",
      " 8   engineSize    4860 non-null   float64\n",
      "dtypes: float64(2), int64(4), object(3)\n",
      "memory usage: 341.8+ KB\n"
     ]
    }
   ],
   "source": [
    "df.info()"
   ]
  },
  {
   "cell_type": "code",
   "execution_count": 5,
   "metadata": {},
   "outputs": [
    {
     "data": {
      "text/plain": [
       "model           0\n",
       "year            0\n",
       "price           0\n",
       "transmission    0\n",
       "total_run       0\n",
       "fule            0\n",
       "tax             0\n",
       "mileage         0\n",
       "engineSize      0\n",
       "dtype: int64"
      ]
     },
     "execution_count": 5,
     "metadata": {},
     "output_type": "execute_result"
    }
   ],
   "source": [
    "df.isnull().sum()"
   ]
  },
  {
   "cell_type": "code",
   "execution_count": 6,
   "metadata": {},
   "outputs": [
    {
     "data": {
      "text/html": [
       "<div>\n",
       "<style scoped>\n",
       "    .dataframe tbody tr th:only-of-type {\n",
       "        vertical-align: middle;\n",
       "    }\n",
       "\n",
       "    .dataframe tbody tr th {\n",
       "        vertical-align: top;\n",
       "    }\n",
       "\n",
       "    .dataframe thead th {\n",
       "        text-align: right;\n",
       "    }\n",
       "</style>\n",
       "<table border=\"1\" class=\"dataframe\">\n",
       "  <thead>\n",
       "    <tr style=\"text-align: right;\">\n",
       "      <th></th>\n",
       "      <th>year</th>\n",
       "      <th>price</th>\n",
       "      <th>total_run</th>\n",
       "      <th>tax</th>\n",
       "      <th>mileage</th>\n",
       "      <th>engineSize</th>\n",
       "    </tr>\n",
       "  </thead>\n",
       "  <tbody>\n",
       "    <tr>\n",
       "      <th>year</th>\n",
       "      <td>1.000000</td>\n",
       "      <td>0.575765</td>\n",
       "      <td>-0.716325</td>\n",
       "      <td>0.271535</td>\n",
       "      <td>-0.180792</td>\n",
       "      <td>-0.034544</td>\n",
       "    </tr>\n",
       "    <tr>\n",
       "      <th>price</th>\n",
       "      <td>0.575765</td>\n",
       "      <td>1.000000</td>\n",
       "      <td>-0.443576</td>\n",
       "      <td>0.321028</td>\n",
       "      <td>-0.320355</td>\n",
       "      <td>0.522384</td>\n",
       "    </tr>\n",
       "    <tr>\n",
       "      <th>total_run</th>\n",
       "      <td>-0.716325</td>\n",
       "      <td>-0.443576</td>\n",
       "      <td>1.000000</td>\n",
       "      <td>-0.205910</td>\n",
       "      <td>0.181491</td>\n",
       "      <td>0.178697</td>\n",
       "    </tr>\n",
       "    <tr>\n",
       "      <th>tax</th>\n",
       "      <td>0.271535</td>\n",
       "      <td>0.321028</td>\n",
       "      <td>-0.205910</td>\n",
       "      <td>1.000000</td>\n",
       "      <td>-0.451991</td>\n",
       "      <td>0.224927</td>\n",
       "    </tr>\n",
       "    <tr>\n",
       "      <th>mileage</th>\n",
       "      <td>-0.180792</td>\n",
       "      <td>-0.320355</td>\n",
       "      <td>0.181491</td>\n",
       "      <td>-0.451991</td>\n",
       "      <td>1.000000</td>\n",
       "      <td>-0.212200</td>\n",
       "    </tr>\n",
       "    <tr>\n",
       "      <th>engineSize</th>\n",
       "      <td>-0.034544</td>\n",
       "      <td>0.522384</td>\n",
       "      <td>0.178697</td>\n",
       "      <td>0.224927</td>\n",
       "      <td>-0.212200</td>\n",
       "      <td>1.000000</td>\n",
       "    </tr>\n",
       "  </tbody>\n",
       "</table>\n",
       "</div>"
      ],
      "text/plain": [
       "                year     price  total_run       tax   mileage  engineSize\n",
       "year        1.000000  0.575765  -0.716325  0.271535 -0.180792   -0.034544\n",
       "price       0.575765  1.000000  -0.443576  0.321028 -0.320355    0.522384\n",
       "total_run  -0.716325 -0.443576   1.000000 -0.205910  0.181491    0.178697\n",
       "tax         0.271535  0.321028  -0.205910  1.000000 -0.451991    0.224927\n",
       "mileage    -0.180792 -0.320355   0.181491 -0.451991  1.000000   -0.212200\n",
       "engineSize -0.034544  0.522384   0.178697  0.224927 -0.212200    1.000000"
      ]
     },
     "execution_count": 6,
     "metadata": {},
     "output_type": "execute_result"
    }
   ],
   "source": [
    "df.corr()"
   ]
  },
  {
   "cell_type": "code",
   "execution_count": 7,
   "metadata": {},
   "outputs": [
    {
     "data": {
      "text/html": [
       "<div>\n",
       "<style scoped>\n",
       "    .dataframe tbody tr th:only-of-type {\n",
       "        vertical-align: middle;\n",
       "    }\n",
       "\n",
       "    .dataframe tbody tr th {\n",
       "        vertical-align: top;\n",
       "    }\n",
       "\n",
       "    .dataframe thead th {\n",
       "        text-align: right;\n",
       "    }\n",
       "</style>\n",
       "<table border=\"1\" class=\"dataframe\">\n",
       "  <thead>\n",
       "    <tr style=\"text-align: right;\">\n",
       "      <th></th>\n",
       "      <th>year</th>\n",
       "      <th>price</th>\n",
       "      <th>total_run</th>\n",
       "      <th>tax</th>\n",
       "      <th>mileage</th>\n",
       "      <th>engineSize</th>\n",
       "    </tr>\n",
       "  </thead>\n",
       "  <tbody>\n",
       "    <tr>\n",
       "      <th>count</th>\n",
       "      <td>4860.000000</td>\n",
       "      <td>4860.00000</td>\n",
       "      <td>4860.000000</td>\n",
       "      <td>4860.000000</td>\n",
       "      <td>4860.000000</td>\n",
       "      <td>4860.000000</td>\n",
       "    </tr>\n",
       "    <tr>\n",
       "      <th>mean</th>\n",
       "      <td>2017.107613</td>\n",
       "      <td>12750.13107</td>\n",
       "      <td>21486.049588</td>\n",
       "      <td>121.147119</td>\n",
       "      <td>53.827798</td>\n",
       "      <td>1.457922</td>\n",
       "    </tr>\n",
       "    <tr>\n",
       "      <th>std</th>\n",
       "      <td>1.920456</td>\n",
       "      <td>5992.92231</td>\n",
       "      <td>17710.196964</td>\n",
       "      <td>58.003289</td>\n",
       "      <td>12.736042</td>\n",
       "      <td>0.400788</td>\n",
       "    </tr>\n",
       "    <tr>\n",
       "      <th>min</th>\n",
       "      <td>2000.000000</td>\n",
       "      <td>1200.00000</td>\n",
       "      <td>1.000000</td>\n",
       "      <td>0.000000</td>\n",
       "      <td>1.100000</td>\n",
       "      <td>0.000000</td>\n",
       "    </tr>\n",
       "    <tr>\n",
       "      <th>25%</th>\n",
       "      <td>2016.000000</td>\n",
       "      <td>8000.00000</td>\n",
       "      <td>8339.250000</td>\n",
       "      <td>125.000000</td>\n",
       "      <td>44.800000</td>\n",
       "      <td>1.200000</td>\n",
       "    </tr>\n",
       "    <tr>\n",
       "      <th>50%</th>\n",
       "      <td>2017.000000</td>\n",
       "      <td>11990.00000</td>\n",
       "      <td>17462.000000</td>\n",
       "      <td>145.000000</td>\n",
       "      <td>55.400000</td>\n",
       "      <td>1.600000</td>\n",
       "    </tr>\n",
       "    <tr>\n",
       "      <th>75%</th>\n",
       "      <td>2019.000000</td>\n",
       "      <td>15733.75000</td>\n",
       "      <td>30967.000000</td>\n",
       "      <td>145.000000</td>\n",
       "      <td>60.100000</td>\n",
       "      <td>1.700000</td>\n",
       "    </tr>\n",
       "    <tr>\n",
       "      <th>max</th>\n",
       "      <td>2020.000000</td>\n",
       "      <td>92000.00000</td>\n",
       "      <td>138000.000000</td>\n",
       "      <td>555.000000</td>\n",
       "      <td>256.800000</td>\n",
       "      <td>2.900000</td>\n",
       "    </tr>\n",
       "  </tbody>\n",
       "</table>\n",
       "</div>"
      ],
      "text/plain": [
       "              year        price      total_run          tax      mileage  \\\n",
       "count  4860.000000   4860.00000    4860.000000  4860.000000  4860.000000   \n",
       "mean   2017.107613  12750.13107   21486.049588   121.147119    53.827798   \n",
       "std       1.920456   5992.92231   17710.196964    58.003289    12.736042   \n",
       "min    2000.000000   1200.00000       1.000000     0.000000     1.100000   \n",
       "25%    2016.000000   8000.00000    8339.250000   125.000000    44.800000   \n",
       "50%    2017.000000  11990.00000   17462.000000   145.000000    55.400000   \n",
       "75%    2019.000000  15733.75000   30967.000000   145.000000    60.100000   \n",
       "max    2020.000000  92000.00000  138000.000000   555.000000   256.800000   \n",
       "\n",
       "        engineSize  \n",
       "count  4860.000000  \n",
       "mean      1.457922  \n",
       "std       0.400788  \n",
       "min       0.000000  \n",
       "25%       1.200000  \n",
       "50%       1.600000  \n",
       "75%       1.700000  \n",
       "max       2.900000  "
      ]
     },
     "execution_count": 7,
     "metadata": {},
     "output_type": "execute_result"
    }
   ],
   "source": [
    "df.describe()"
   ]
  },
  {
   "cell_type": "code",
   "execution_count": 8,
   "metadata": {},
   "outputs": [],
   "source": [
    "df['mileage_lit'] = round(df['mileage']/3.78541,2)"
   ]
  },
  {
   "cell_type": "code",
   "execution_count": 9,
   "metadata": {},
   "outputs": [
    {
     "data": {
      "text/html": [
       "<div>\n",
       "<style scoped>\n",
       "    .dataframe tbody tr th:only-of-type {\n",
       "        vertical-align: middle;\n",
       "    }\n",
       "\n",
       "    .dataframe tbody tr th {\n",
       "        vertical-align: top;\n",
       "    }\n",
       "\n",
       "    .dataframe thead th {\n",
       "        text-align: right;\n",
       "    }\n",
       "</style>\n",
       "<table border=\"1\" class=\"dataframe\">\n",
       "  <thead>\n",
       "    <tr style=\"text-align: right;\">\n",
       "      <th></th>\n",
       "      <th>model</th>\n",
       "      <th>year</th>\n",
       "      <th>price</th>\n",
       "      <th>transmission</th>\n",
       "      <th>total_run</th>\n",
       "      <th>fule</th>\n",
       "      <th>tax</th>\n",
       "      <th>mileage</th>\n",
       "      <th>engineSize</th>\n",
       "      <th>mileage_lit</th>\n",
       "    </tr>\n",
       "  </thead>\n",
       "  <tbody>\n",
       "    <tr>\n",
       "      <th>0</th>\n",
       "      <td>I20</td>\n",
       "      <td>2017</td>\n",
       "      <td>7999</td>\n",
       "      <td>Manual</td>\n",
       "      <td>17307</td>\n",
       "      <td>Petrol</td>\n",
       "      <td>145</td>\n",
       "      <td>58.9</td>\n",
       "      <td>1.2</td>\n",
       "      <td>15.56</td>\n",
       "    </tr>\n",
       "    <tr>\n",
       "      <th>1</th>\n",
       "      <td>Tucson</td>\n",
       "      <td>2016</td>\n",
       "      <td>14499</td>\n",
       "      <td>Automatic</td>\n",
       "      <td>25233</td>\n",
       "      <td>Diesel</td>\n",
       "      <td>235</td>\n",
       "      <td>43.5</td>\n",
       "      <td>2.0</td>\n",
       "      <td>11.49</td>\n",
       "    </tr>\n",
       "    <tr>\n",
       "      <th>2</th>\n",
       "      <td>Tucson</td>\n",
       "      <td>2016</td>\n",
       "      <td>11399</td>\n",
       "      <td>Manual</td>\n",
       "      <td>37877</td>\n",
       "      <td>Diesel</td>\n",
       "      <td>30</td>\n",
       "      <td>61.7</td>\n",
       "      <td>1.7</td>\n",
       "      <td>16.30</td>\n",
       "    </tr>\n",
       "    <tr>\n",
       "      <th>3</th>\n",
       "      <td>I10</td>\n",
       "      <td>2016</td>\n",
       "      <td>6499</td>\n",
       "      <td>Manual</td>\n",
       "      <td>23789</td>\n",
       "      <td>Petrol</td>\n",
       "      <td>20</td>\n",
       "      <td>60.1</td>\n",
       "      <td>1.0</td>\n",
       "      <td>15.88</td>\n",
       "    </tr>\n",
       "    <tr>\n",
       "      <th>4</th>\n",
       "      <td>IX35</td>\n",
       "      <td>2015</td>\n",
       "      <td>10199</td>\n",
       "      <td>Manual</td>\n",
       "      <td>33177</td>\n",
       "      <td>Diesel</td>\n",
       "      <td>160</td>\n",
       "      <td>51.4</td>\n",
       "      <td>2.0</td>\n",
       "      <td>13.58</td>\n",
       "    </tr>\n",
       "  </tbody>\n",
       "</table>\n",
       "</div>"
      ],
      "text/plain": [
       "     model  year  price transmission  total_run    fule  tax  mileage  \\\n",
       "0      I20  2017   7999       Manual      17307  Petrol  145     58.9   \n",
       "1   Tucson  2016  14499    Automatic      25233  Diesel  235     43.5   \n",
       "2   Tucson  2016  11399       Manual      37877  Diesel   30     61.7   \n",
       "3      I10  2016   6499       Manual      23789  Petrol   20     60.1   \n",
       "4     IX35  2015  10199       Manual      33177  Diesel  160     51.4   \n",
       "\n",
       "   engineSize  mileage_lit  \n",
       "0         1.2        15.56  \n",
       "1         2.0        11.49  \n",
       "2         1.7        16.30  \n",
       "3         1.0        15.88  \n",
       "4         2.0        13.58  "
      ]
     },
     "execution_count": 9,
     "metadata": {},
     "output_type": "execute_result"
    }
   ],
   "source": [
    "df.head()"
   ]
  },
  {
   "cell_type": "code",
   "execution_count": 10,
   "metadata": {},
   "outputs": [],
   "source": [
    "del df['mileage']"
   ]
  },
  {
   "cell_type": "code",
   "execution_count": 11,
   "metadata": {},
   "outputs": [
    {
     "data": {
      "text/html": [
       "<div>\n",
       "<style scoped>\n",
       "    .dataframe tbody tr th:only-of-type {\n",
       "        vertical-align: middle;\n",
       "    }\n",
       "\n",
       "    .dataframe tbody tr th {\n",
       "        vertical-align: top;\n",
       "    }\n",
       "\n",
       "    .dataframe thead th {\n",
       "        text-align: right;\n",
       "    }\n",
       "</style>\n",
       "<table border=\"1\" class=\"dataframe\">\n",
       "  <thead>\n",
       "    <tr style=\"text-align: right;\">\n",
       "      <th></th>\n",
       "      <th>model</th>\n",
       "      <th>year</th>\n",
       "      <th>price</th>\n",
       "      <th>transmission</th>\n",
       "      <th>total_run</th>\n",
       "      <th>fule</th>\n",
       "      <th>tax</th>\n",
       "      <th>engineSize</th>\n",
       "      <th>mileage_lit</th>\n",
       "    </tr>\n",
       "  </thead>\n",
       "  <tbody>\n",
       "    <tr>\n",
       "      <th>0</th>\n",
       "      <td>I20</td>\n",
       "      <td>2017</td>\n",
       "      <td>7999</td>\n",
       "      <td>Manual</td>\n",
       "      <td>17307</td>\n",
       "      <td>Petrol</td>\n",
       "      <td>145</td>\n",
       "      <td>1.2</td>\n",
       "      <td>15.56</td>\n",
       "    </tr>\n",
       "    <tr>\n",
       "      <th>1</th>\n",
       "      <td>Tucson</td>\n",
       "      <td>2016</td>\n",
       "      <td>14499</td>\n",
       "      <td>Automatic</td>\n",
       "      <td>25233</td>\n",
       "      <td>Diesel</td>\n",
       "      <td>235</td>\n",
       "      <td>2.0</td>\n",
       "      <td>11.49</td>\n",
       "    </tr>\n",
       "    <tr>\n",
       "      <th>2</th>\n",
       "      <td>Tucson</td>\n",
       "      <td>2016</td>\n",
       "      <td>11399</td>\n",
       "      <td>Manual</td>\n",
       "      <td>37877</td>\n",
       "      <td>Diesel</td>\n",
       "      <td>30</td>\n",
       "      <td>1.7</td>\n",
       "      <td>16.30</td>\n",
       "    </tr>\n",
       "    <tr>\n",
       "      <th>3</th>\n",
       "      <td>I10</td>\n",
       "      <td>2016</td>\n",
       "      <td>6499</td>\n",
       "      <td>Manual</td>\n",
       "      <td>23789</td>\n",
       "      <td>Petrol</td>\n",
       "      <td>20</td>\n",
       "      <td>1.0</td>\n",
       "      <td>15.88</td>\n",
       "    </tr>\n",
       "    <tr>\n",
       "      <th>4</th>\n",
       "      <td>IX35</td>\n",
       "      <td>2015</td>\n",
       "      <td>10199</td>\n",
       "      <td>Manual</td>\n",
       "      <td>33177</td>\n",
       "      <td>Diesel</td>\n",
       "      <td>160</td>\n",
       "      <td>2.0</td>\n",
       "      <td>13.58</td>\n",
       "    </tr>\n",
       "  </tbody>\n",
       "</table>\n",
       "</div>"
      ],
      "text/plain": [
       "     model  year  price transmission  total_run    fule  tax  engineSize  \\\n",
       "0      I20  2017   7999       Manual      17307  Petrol  145         1.2   \n",
       "1   Tucson  2016  14499    Automatic      25233  Diesel  235         2.0   \n",
       "2   Tucson  2016  11399       Manual      37877  Diesel   30         1.7   \n",
       "3      I10  2016   6499       Manual      23789  Petrol   20         1.0   \n",
       "4     IX35  2015  10199       Manual      33177  Diesel  160         2.0   \n",
       "\n",
       "   mileage_lit  \n",
       "0        15.56  \n",
       "1        11.49  \n",
       "2        16.30  \n",
       "3        15.88  \n",
       "4        13.58  "
      ]
     },
     "execution_count": 11,
     "metadata": {},
     "output_type": "execute_result"
    }
   ],
   "source": [
    "df.head()"
   ]
  },
  {
   "cell_type": "code",
   "execution_count": 12,
   "metadata": {},
   "outputs": [
    {
     "data": {
      "text/plain": [
       " Tucson      1300\n",
       " I10         1092\n",
       " I30          536\n",
       " I20          496\n",
       " Kona         328\n",
       " Ioniq        284\n",
       " Santa Fe     245\n",
       " IX20         204\n",
       " I40          127\n",
       " IX35         118\n",
       " I800         117\n",
       " Getz           6\n",
       " Veloster       3\n",
       " Terracan       2\n",
       " Amica          1\n",
       " Accent         1\n",
       "Name: model, dtype: int64"
      ]
     },
     "execution_count": 12,
     "metadata": {},
     "output_type": "execute_result"
    }
   ],
   "source": [
    "df['model'].value_counts()"
   ]
  },
  {
   "cell_type": "code",
   "execution_count": 13,
   "metadata": {},
   "outputs": [],
   "source": [
    "df2 = df[~((df['model']==\" Amica\") | (df['model']==\" Accent\") | (df['model']==\" Terracan\") | (df['model']==\" Veloster\") | (df['model']==\" Getz\"))]"
   ]
  },
  {
   "cell_type": "code",
   "execution_count": 14,
   "metadata": {},
   "outputs": [
    {
     "data": {
      "text/plain": [
       "(4847, 9)"
      ]
     },
     "execution_count": 14,
     "metadata": {},
     "output_type": "execute_result"
    }
   ],
   "source": [
    "df2.shape"
   ]
  },
  {
   "cell_type": "code",
   "execution_count": 15,
   "metadata": {},
   "outputs": [
    {
     "data": {
      "text/plain": [
       " Tucson      1300\n",
       " I10         1092\n",
       " I30          536\n",
       " I20          496\n",
       " Kona         328\n",
       " Ioniq        284\n",
       " Santa Fe     245\n",
       " IX20         204\n",
       " I40          127\n",
       " IX35         118\n",
       " I800         117\n",
       "Name: model, dtype: int64"
      ]
     },
     "execution_count": 15,
     "metadata": {},
     "output_type": "execute_result"
    }
   ],
   "source": [
    "df2['model'].value_counts()"
   ]
  },
  {
   "cell_type": "markdown",
   "metadata": {},
   "source": [
    "# **Finding Outliers**"
   ]
  },
  {
   "cell_type": "code",
   "execution_count": 16,
   "metadata": {},
   "outputs": [
    {
     "data": {
      "text/plain": [
       "<seaborn.axisgrid.PairGrid at 0x23811f02a00>"
      ]
     },
     "execution_count": 16,
     "metadata": {},
     "output_type": "execute_result"
    },
    {
     "data": {
      "image/png": "[encoded data removed]",
      "text/plain": [
       "<Figure size 1080x1080 with 42 Axes>"
      ]
     },
     "metadata": {
      "needs_background": "light"
     },
     "output_type": "display_data"
    }
   ],
   "source": [
    "sn.pairplot(df2)"
   ]
  },
  {
   "cell_type": "code",
   "execution_count": 17,
   "metadata": {},
   "outputs": [],
   "source": [
    "def box_plot(df,var):\n",
    "    sn.boxplot(x=df[var])\n",
    "    plt.show()"
   ]
  },
  {
   "cell_type": "code",
   "execution_count": 18,
   "metadata": {},
   "outputs": [
    {
     "name": "stdout",
     "output_type": "stream",
     "text": [
      "year\n"
     ]
    },
    {
     "data": {
      "image/png": "[encoded data removed]",
      "text/plain": [
       "<Figure size 432x288 with 1 Axes>"
      ]
     },
     "metadata": {
      "needs_background": "light"
     },
     "output_type": "display_data"
    },
    {
     "name": "stdout",
     "output_type": "stream",
     "text": [
      "price\n"
     ]
    },
    {
     "data": {
      "image/png": "[encoded data removed]",
      "text/plain": [
       "<Figure size 432x288 with 1 Axes>"
      ]
     },
     "metadata": {
      "needs_background": "light"
     },
     "output_type": "display_data"
    },
    {
     "name": "stdout",
     "output_type": "stream",
     "text": [
      "total_run\n"
     ]
    },
    {
     "data": {
      "image/png": "[encoded data removed]",
      "text/plain": [
       "<Figure size 432x288 with 1 Axes>"
      ]
     },
     "metadata": {
      "needs_background": "light"
     },
     "output_type": "display_data"
    },
    {
     "name": "stdout",
     "output_type": "stream",
     "text": [
      "tax\n"
     ]
    },
    {
     "data": {
      "image/png": "[encoded data removed]",
      "text/plain": [
       "<Figure size 432x288 with 1 Axes>"
      ]
     },
     "metadata": {
      "needs_background": "light"
     },
     "output_type": "display_data"
    },
    {
     "name": "stdout",
     "output_type": "stream",
     "text": [
      "engineSize\n"
     ]
    },
    {
     "data": {
      "image/png": "[encoded data removed]",
      "text/plain": [
       "<Figure size 432x288 with 1 Axes>"
      ]
     },
     "metadata": {
      "needs_background": "light"
     },
     "output_type": "display_data"
    },
    {
     "name": "stdout",
     "output_type": "stream",
     "text": [
      "mileage_lit\n"
     ]
    },
    {
     "data": {
      "image/png": "[encoded data removed]",
      "text/plain": [
       "<Figure size 432x288 with 1 Axes>"
      ]
     },
     "metadata": {
      "needs_background": "light"
     },
     "output_type": "display_data"
    }
   ],
   "source": [
    "x=[\"year\",\"price\",\"total_run\",\"tax\",\"engineSize\",\"mileage_lit\"]\n",
    "for i in x:\n",
    "    print(i)\n",
    "    box_plot(df2,i)"
   ]
  },
  {
   "cell_type": "markdown",
   "metadata": {},
   "source": [
    "Year :           Below 2004 is outlier\n",
    "\n",
    "Price :          Above 50000 is outlier\n",
    "\n",
    "Total-Run :      Above 120000 is outlier\n",
    "\n",
    "Tax :            Above 300 is outlier\n",
    "\n",
    "Engine-Size :    0 is outlier\n",
    "\n",
    "Mileage :        Below 5 and above 30 is outlier\n"
   ]
  },
  {
   "cell_type": "code",
   "execution_count": 19,
   "metadata": {},
   "outputs": [
    {
     "data": {
      "text/html": [
       "<div>\n",
       "<style scoped>\n",
       "    .dataframe tbody tr th:only-of-type {\n",
       "        vertical-align: middle;\n",
       "    }\n",
       "\n",
       "    .dataframe tbody tr th {\n",
       "        vertical-align: top;\n",
       "    }\n",
       "\n",
       "    .dataframe thead th {\n",
       "        text-align: right;\n",
       "    }\n",
       "</style>\n",
       "<table border=\"1\" class=\"dataframe\">\n",
       "  <thead>\n",
       "    <tr style=\"text-align: right;\">\n",
       "      <th></th>\n",
       "      <th>model</th>\n",
       "      <th>year</th>\n",
       "      <th>price</th>\n",
       "      <th>transmission</th>\n",
       "      <th>total_run</th>\n",
       "      <th>fule</th>\n",
       "      <th>tax</th>\n",
       "      <th>engineSize</th>\n",
       "      <th>mileage_lit</th>\n",
       "    </tr>\n",
       "  </thead>\n",
       "  <tbody>\n",
       "    <tr>\n",
       "      <th>4705</th>\n",
       "      <td>Santa Fe</td>\n",
       "      <td>2002</td>\n",
       "      <td>1200</td>\n",
       "      <td>Manual</td>\n",
       "      <td>94000</td>\n",
       "      <td>Petrol</td>\n",
       "      <td>325</td>\n",
       "      <td>2.4</td>\n",
       "      <td>8.03</td>\n",
       "    </tr>\n",
       "  </tbody>\n",
       "</table>\n",
       "</div>"
      ],
      "text/plain": [
       "          model  year  price transmission  total_run    fule  tax  engineSize  \\\n",
       "4705   Santa Fe  2002   1200       Manual      94000  Petrol  325         2.4   \n",
       "\n",
       "      mileage_lit  \n",
       "4705         8.03  "
      ]
     },
     "execution_count": 19,
     "metadata": {},
     "output_type": "execute_result"
    }
   ],
   "source": [
    "#for year\n",
    "year_out = df2[df2['year']<2004]\n",
    "year_out"
   ]
  },
  {
   "cell_type": "code",
   "execution_count": 20,
   "metadata": {},
   "outputs": [
    {
     "name": "stdout",
     "output_type": "stream",
     "text": [
      "(4847, 9)\n",
      "(4846, 9)\n"
     ]
    }
   ],
   "source": [
    "print(df2.shape)\n",
    "df2 = df2[~(df2['year']<2004)]\n",
    "print(df2.shape)"
   ]
  },
  {
   "cell_type": "code",
   "execution_count": 21,
   "metadata": {},
   "outputs": [
    {
     "data": {
      "text/html": [
       "<div>\n",
       "<style scoped>\n",
       "    .dataframe tbody tr th:only-of-type {\n",
       "        vertical-align: middle;\n",
       "    }\n",
       "\n",
       "    .dataframe tbody tr th {\n",
       "        vertical-align: top;\n",
       "    }\n",
       "\n",
       "    .dataframe thead th {\n",
       "        text-align: right;\n",
       "    }\n",
       "</style>\n",
       "<table border=\"1\" class=\"dataframe\">\n",
       "  <thead>\n",
       "    <tr style=\"text-align: right;\">\n",
       "      <th></th>\n",
       "      <th>model</th>\n",
       "      <th>year</th>\n",
       "      <th>price</th>\n",
       "      <th>transmission</th>\n",
       "      <th>total_run</th>\n",
       "      <th>fule</th>\n",
       "      <th>tax</th>\n",
       "      <th>engineSize</th>\n",
       "      <th>mileage_lit</th>\n",
       "    </tr>\n",
       "  </thead>\n",
       "  <tbody>\n",
       "    <tr>\n",
       "      <th>4247</th>\n",
       "      <td>I10</td>\n",
       "      <td>2017</td>\n",
       "      <td>92000</td>\n",
       "      <td>Automatic</td>\n",
       "      <td>35460</td>\n",
       "      <td>Petrol</td>\n",
       "      <td>150</td>\n",
       "      <td>1.2</td>\n",
       "      <td>12.65</td>\n",
       "    </tr>\n",
       "  </tbody>\n",
       "</table>\n",
       "</div>"
      ],
      "text/plain": [
       "     model  year  price transmission  total_run    fule  tax  engineSize  \\\n",
       "4247   I10  2017  92000    Automatic      35460  Petrol  150         1.2   \n",
       "\n",
       "      mileage_lit  \n",
       "4247        12.65  "
      ]
     },
     "execution_count": 21,
     "metadata": {},
     "output_type": "execute_result"
    }
   ],
   "source": [
    "#for price\n",
    "price_out = df2[df2['price']>=50000]\n",
    "price_out"
   ]
  },
  {
   "cell_type": "code",
   "execution_count": 22,
   "metadata": {},
   "outputs": [
    {
     "name": "stdout",
     "output_type": "stream",
     "text": [
      "(4846, 9)\n",
      "(4845, 9)\n"
     ]
    }
   ],
   "source": [
    "print(df2.shape)\n",
    "df2 = df2[~(df2['price']>=50000)]\n",
    "print(df2.shape)"
   ]
  },
  {
   "cell_type": "code",
   "execution_count": 23,
   "metadata": {},
   "outputs": [
    {
     "data": {
      "text/html": [
       "<div>\n",
       "<style scoped>\n",
       "    .dataframe tbody tr th:only-of-type {\n",
       "        vertical-align: middle;\n",
       "    }\n",
       "\n",
       "    .dataframe tbody tr th {\n",
       "        vertical-align: top;\n",
       "    }\n",
       "\n",
       "    .dataframe thead th {\n",
       "        text-align: right;\n",
       "    }\n",
       "</style>\n",
       "<table border=\"1\" class=\"dataframe\">\n",
       "  <thead>\n",
       "    <tr style=\"text-align: right;\">\n",
       "      <th></th>\n",
       "      <th>model</th>\n",
       "      <th>year</th>\n",
       "      <th>price</th>\n",
       "      <th>transmission</th>\n",
       "      <th>total_run</th>\n",
       "      <th>fule</th>\n",
       "      <th>tax</th>\n",
       "      <th>engineSize</th>\n",
       "      <th>mileage_lit</th>\n",
       "    </tr>\n",
       "  </thead>\n",
       "  <tbody>\n",
       "    <tr>\n",
       "      <th>4378</th>\n",
       "      <td>I30</td>\n",
       "      <td>2015</td>\n",
       "      <td>4492</td>\n",
       "      <td>Manual</td>\n",
       "      <td>124000</td>\n",
       "      <td>Diesel</td>\n",
       "      <td>0</td>\n",
       "      <td>1.6</td>\n",
       "      <td>20.71</td>\n",
       "    </tr>\n",
       "    <tr>\n",
       "      <th>4379</th>\n",
       "      <td>I30</td>\n",
       "      <td>2015</td>\n",
       "      <td>4492</td>\n",
       "      <td>Manual</td>\n",
       "      <td>124000</td>\n",
       "      <td>Diesel</td>\n",
       "      <td>0</td>\n",
       "      <td>1.6</td>\n",
       "      <td>20.71</td>\n",
       "    </tr>\n",
       "    <tr>\n",
       "      <th>4446</th>\n",
       "      <td>Santa Fe</td>\n",
       "      <td>2011</td>\n",
       "      <td>5395</td>\n",
       "      <td>Manual</td>\n",
       "      <td>130000</td>\n",
       "      <td>Diesel</td>\n",
       "      <td>265</td>\n",
       "      <td>2.2</td>\n",
       "      <td>10.96</td>\n",
       "    </tr>\n",
       "    <tr>\n",
       "      <th>4494</th>\n",
       "      <td>I30</td>\n",
       "      <td>2008</td>\n",
       "      <td>1395</td>\n",
       "      <td>Manual</td>\n",
       "      <td>138000</td>\n",
       "      <td>Diesel</td>\n",
       "      <td>125</td>\n",
       "      <td>1.6</td>\n",
       "      <td>15.22</td>\n",
       "    </tr>\n",
       "    <tr>\n",
       "      <th>4718</th>\n",
       "      <td>I30</td>\n",
       "      <td>2009</td>\n",
       "      <td>2495</td>\n",
       "      <td>Manual</td>\n",
       "      <td>125968</td>\n",
       "      <td>Petrol</td>\n",
       "      <td>160</td>\n",
       "      <td>1.4</td>\n",
       "      <td>12.23</td>\n",
       "    </tr>\n",
       "  </tbody>\n",
       "</table>\n",
       "</div>"
      ],
      "text/plain": [
       "          model  year  price transmission  total_run    fule  tax  engineSize  \\\n",
       "4378        I30  2015   4492       Manual     124000  Diesel    0         1.6   \n",
       "4379        I30  2015   4492       Manual     124000  Diesel    0         1.6   \n",
       "4446   Santa Fe  2011   5395       Manual     130000  Diesel  265         2.2   \n",
       "4494        I30  2008   1395       Manual     138000  Diesel  125         1.6   \n",
       "4718        I30  2009   2495       Manual     125968  Petrol  160         1.4   \n",
       "\n",
       "      mileage_lit  \n",
       "4378        20.71  \n",
       "4379        20.71  \n",
       "4446        10.96  \n",
       "4494        15.22  \n",
       "4718        12.23  "
      ]
     },
     "execution_count": 23,
     "metadata": {},
     "output_type": "execute_result"
    }
   ],
   "source": [
    "#for total-run\n",
    "run_out = df2[df2['total_run']>120000]\n",
    "run_out"
   ]
  },
  {
   "cell_type": "code",
   "execution_count": 24,
   "metadata": {},
   "outputs": [
    {
     "name": "stdout",
     "output_type": "stream",
     "text": [
      "(4845, 9)\n",
      "(4840, 9)\n"
     ]
    }
   ],
   "source": [
    "print(df2.shape)\n",
    "df2 = df2[~(df2['total_run']>120000)]\n",
    "print(df2.shape)"
   ]
  },
  {
   "cell_type": "code",
   "execution_count": 25,
   "metadata": {},
   "outputs": [
    {
     "data": {
      "text/html": [
       "<div>\n",
       "<style scoped>\n",
       "    .dataframe tbody tr th:only-of-type {\n",
       "        vertical-align: middle;\n",
       "    }\n",
       "\n",
       "    .dataframe tbody tr th {\n",
       "        vertical-align: top;\n",
       "    }\n",
       "\n",
       "    .dataframe thead th {\n",
       "        text-align: right;\n",
       "    }\n",
       "</style>\n",
       "<table border=\"1\" class=\"dataframe\">\n",
       "  <thead>\n",
       "    <tr style=\"text-align: right;\">\n",
       "      <th></th>\n",
       "      <th>model</th>\n",
       "      <th>year</th>\n",
       "      <th>price</th>\n",
       "      <th>transmission</th>\n",
       "      <th>total_run</th>\n",
       "      <th>fule</th>\n",
       "      <th>tax</th>\n",
       "      <th>engineSize</th>\n",
       "      <th>mileage_lit</th>\n",
       "    </tr>\n",
       "  </thead>\n",
       "  <tbody>\n",
       "    <tr>\n",
       "      <th>4756</th>\n",
       "      <td>Santa Fe</td>\n",
       "      <td>2006</td>\n",
       "      <td>3490</td>\n",
       "      <td>Manual</td>\n",
       "      <td>71000</td>\n",
       "      <td>Petrol</td>\n",
       "      <td>555</td>\n",
       "      <td>2.4</td>\n",
       "      <td>7.61</td>\n",
       "    </tr>\n",
       "  </tbody>\n",
       "</table>\n",
       "</div>"
      ],
      "text/plain": [
       "          model  year  price transmission  total_run    fule  tax  engineSize  \\\n",
       "4756   Santa Fe  2006   3490       Manual      71000  Petrol  555         2.4   \n",
       "\n",
       "      mileage_lit  \n",
       "4756         7.61  "
      ]
     },
     "execution_count": 25,
     "metadata": {},
     "output_type": "execute_result"
    }
   ],
   "source": [
    "#for tax\n",
    "tax_out = df2[df2['tax']>400]\n",
    "tax_out"
   ]
  },
  {
   "cell_type": "code",
   "execution_count": 26,
   "metadata": {},
   "outputs": [
    {
     "name": "stdout",
     "output_type": "stream",
     "text": [
      "(4840, 9)\n",
      "(4839, 9)\n"
     ]
    }
   ],
   "source": [
    "print(df2.shape)\n",
    "df2 = df2[~(df2['tax']>=400)]\n",
    "print(df2.shape)"
   ]
  },
  {
   "cell_type": "code",
   "execution_count": 27,
   "metadata": {},
   "outputs": [
    {
     "data": {
      "text/html": [
       "<div>\n",
       "<style scoped>\n",
       "    .dataframe tbody tr th:only-of-type {\n",
       "        vertical-align: middle;\n",
       "    }\n",
       "\n",
       "    .dataframe tbody tr th {\n",
       "        vertical-align: top;\n",
       "    }\n",
       "\n",
       "    .dataframe thead th {\n",
       "        text-align: right;\n",
       "    }\n",
       "</style>\n",
       "<table border=\"1\" class=\"dataframe\">\n",
       "  <thead>\n",
       "    <tr style=\"text-align: right;\">\n",
       "      <th></th>\n",
       "      <th>model</th>\n",
       "      <th>year</th>\n",
       "      <th>price</th>\n",
       "      <th>transmission</th>\n",
       "      <th>total_run</th>\n",
       "      <th>fule</th>\n",
       "      <th>tax</th>\n",
       "      <th>engineSize</th>\n",
       "      <th>mileage_lit</th>\n",
       "    </tr>\n",
       "  </thead>\n",
       "  <tbody>\n",
       "    <tr>\n",
       "      <th>31</th>\n",
       "      <td>Tucson</td>\n",
       "      <td>2015</td>\n",
       "      <td>15200</td>\n",
       "      <td>Automatic</td>\n",
       "      <td>28904</td>\n",
       "      <td>Diesel</td>\n",
       "      <td>200</td>\n",
       "      <td>0.0</td>\n",
       "      <td>12.23</td>\n",
       "    </tr>\n",
       "    <tr>\n",
       "      <th>32</th>\n",
       "      <td>I10</td>\n",
       "      <td>2014</td>\n",
       "      <td>7700</td>\n",
       "      <td>Automatic</td>\n",
       "      <td>8646</td>\n",
       "      <td>Petrol</td>\n",
       "      <td>160</td>\n",
       "      <td>0.0</td>\n",
       "      <td>12.05</td>\n",
       "    </tr>\n",
       "    <tr>\n",
       "      <th>33</th>\n",
       "      <td>I30</td>\n",
       "      <td>2017</td>\n",
       "      <td>10500</td>\n",
       "      <td>Automatic</td>\n",
       "      <td>17663</td>\n",
       "      <td>Diesel</td>\n",
       "      <td>20</td>\n",
       "      <td>0.0</td>\n",
       "      <td>19.13</td>\n",
       "    </tr>\n",
       "    <tr>\n",
       "      <th>34</th>\n",
       "      <td>I20</td>\n",
       "      <td>2017</td>\n",
       "      <td>11400</td>\n",
       "      <td>Automatic</td>\n",
       "      <td>12661</td>\n",
       "      <td>Petrol</td>\n",
       "      <td>145</td>\n",
       "      <td>0.0</td>\n",
       "      <td>11.65</td>\n",
       "    </tr>\n",
       "    <tr>\n",
       "      <th>37</th>\n",
       "      <td>I10</td>\n",
       "      <td>2018</td>\n",
       "      <td>9000</td>\n",
       "      <td>Manual</td>\n",
       "      <td>7126</td>\n",
       "      <td>Petrol</td>\n",
       "      <td>145</td>\n",
       "      <td>0.0</td>\n",
       "      <td>15.88</td>\n",
       "    </tr>\n",
       "    <tr>\n",
       "      <th>39</th>\n",
       "      <td>I10</td>\n",
       "      <td>2018</td>\n",
       "      <td>8500</td>\n",
       "      <td>Manual</td>\n",
       "      <td>12948</td>\n",
       "      <td>Petrol</td>\n",
       "      <td>145</td>\n",
       "      <td>0.0</td>\n",
       "      <td>15.88</td>\n",
       "    </tr>\n",
       "    <tr>\n",
       "      <th>40</th>\n",
       "      <td>I30</td>\n",
       "      <td>2019</td>\n",
       "      <td>14500</td>\n",
       "      <td>Manual</td>\n",
       "      <td>2481</td>\n",
       "      <td>Petrol</td>\n",
       "      <td>145</td>\n",
       "      <td>0.0</td>\n",
       "      <td>10.96</td>\n",
       "    </tr>\n",
       "    <tr>\n",
       "      <th>41</th>\n",
       "      <td>Tucson</td>\n",
       "      <td>2016</td>\n",
       "      <td>13800</td>\n",
       "      <td>Manual</td>\n",
       "      <td>27311</td>\n",
       "      <td>Diesel</td>\n",
       "      <td>30</td>\n",
       "      <td>0.0</td>\n",
       "      <td>16.30</td>\n",
       "    </tr>\n",
       "    <tr>\n",
       "      <th>42</th>\n",
       "      <td>I30</td>\n",
       "      <td>2016</td>\n",
       "      <td>9000</td>\n",
       "      <td>Manual</td>\n",
       "      <td>34443</td>\n",
       "      <td>Diesel</td>\n",
       "      <td>0</td>\n",
       "      <td>0.0</td>\n",
       "      <td>20.71</td>\n",
       "    </tr>\n",
       "    <tr>\n",
       "      <th>43</th>\n",
       "      <td>Tucson</td>\n",
       "      <td>2017</td>\n",
       "      <td>13800</td>\n",
       "      <td>Manual</td>\n",
       "      <td>16961</td>\n",
       "      <td>Diesel</td>\n",
       "      <td>30</td>\n",
       "      <td>0.0</td>\n",
       "      <td>16.30</td>\n",
       "    </tr>\n",
       "    <tr>\n",
       "      <th>45</th>\n",
       "      <td>I10</td>\n",
       "      <td>2013</td>\n",
       "      <td>5000</td>\n",
       "      <td>Manual</td>\n",
       "      <td>45230</td>\n",
       "      <td>Petrol</td>\n",
       "      <td>20</td>\n",
       "      <td>0.0</td>\n",
       "      <td>16.22</td>\n",
       "    </tr>\n",
       "    <tr>\n",
       "      <th>46</th>\n",
       "      <td>I10</td>\n",
       "      <td>2018</td>\n",
       "      <td>10300</td>\n",
       "      <td>Manual</td>\n",
       "      <td>6349</td>\n",
       "      <td>Petrol</td>\n",
       "      <td>145</td>\n",
       "      <td>0.0</td>\n",
       "      <td>15.22</td>\n",
       "    </tr>\n",
       "    <tr>\n",
       "      <th>47</th>\n",
       "      <td>I40</td>\n",
       "      <td>2015</td>\n",
       "      <td>11500</td>\n",
       "      <td>Manual</td>\n",
       "      <td>13268</td>\n",
       "      <td>Diesel</td>\n",
       "      <td>30</td>\n",
       "      <td>0.0</td>\n",
       "      <td>17.36</td>\n",
       "    </tr>\n",
       "    <tr>\n",
       "      <th>48</th>\n",
       "      <td>I30</td>\n",
       "      <td>2016</td>\n",
       "      <td>9000</td>\n",
       "      <td>Manual</td>\n",
       "      <td>29610</td>\n",
       "      <td>Diesel</td>\n",
       "      <td>0</td>\n",
       "      <td>0.0</td>\n",
       "      <td>20.71</td>\n",
       "    </tr>\n",
       "    <tr>\n",
       "      <th>49</th>\n",
       "      <td>IX35</td>\n",
       "      <td>2015</td>\n",
       "      <td>11400</td>\n",
       "      <td>Manual</td>\n",
       "      <td>23041</td>\n",
       "      <td>Diesel</td>\n",
       "      <td>165</td>\n",
       "      <td>0.0</td>\n",
       "      <td>13.58</td>\n",
       "    </tr>\n",
       "    <tr>\n",
       "      <th>50</th>\n",
       "      <td>I20</td>\n",
       "      <td>2017</td>\n",
       "      <td>10000</td>\n",
       "      <td>Manual</td>\n",
       "      <td>21821</td>\n",
       "      <td>Petrol</td>\n",
       "      <td>145</td>\n",
       "      <td>0.0</td>\n",
       "      <td>16.22</td>\n",
       "    </tr>\n",
       "    <tr>\n",
       "      <th>51</th>\n",
       "      <td>I10</td>\n",
       "      <td>2018</td>\n",
       "      <td>7800</td>\n",
       "      <td>Manual</td>\n",
       "      <td>17397</td>\n",
       "      <td>Petrol</td>\n",
       "      <td>150</td>\n",
       "      <td>0.0</td>\n",
       "      <td>15.88</td>\n",
       "    </tr>\n",
       "    <tr>\n",
       "      <th>52</th>\n",
       "      <td>I10</td>\n",
       "      <td>2016</td>\n",
       "      <td>6300</td>\n",
       "      <td>Manual</td>\n",
       "      <td>31854</td>\n",
       "      <td>Petrol</td>\n",
       "      <td>20</td>\n",
       "      <td>0.0</td>\n",
       "      <td>15.88</td>\n",
       "    </tr>\n",
       "    <tr>\n",
       "      <th>53</th>\n",
       "      <td>Tucson</td>\n",
       "      <td>2016</td>\n",
       "      <td>11300</td>\n",
       "      <td>Manual</td>\n",
       "      <td>37993</td>\n",
       "      <td>Diesel</td>\n",
       "      <td>30</td>\n",
       "      <td>0.0</td>\n",
       "      <td>16.30</td>\n",
       "    </tr>\n",
       "    <tr>\n",
       "      <th>54</th>\n",
       "      <td>I800</td>\n",
       "      <td>2018</td>\n",
       "      <td>15500</td>\n",
       "      <td>Manual</td>\n",
       "      <td>30305</td>\n",
       "      <td>Diesel</td>\n",
       "      <td>145</td>\n",
       "      <td>0.0</td>\n",
       "      <td>8.37</td>\n",
       "    </tr>\n",
       "    <tr>\n",
       "      <th>55</th>\n",
       "      <td>I20</td>\n",
       "      <td>2018</td>\n",
       "      <td>11700</td>\n",
       "      <td>Manual</td>\n",
       "      <td>3920</td>\n",
       "      <td>Petrol</td>\n",
       "      <td>150</td>\n",
       "      <td>0.0</td>\n",
       "      <td>12.23</td>\n",
       "    </tr>\n",
       "    <tr>\n",
       "      <th>61</th>\n",
       "      <td>Tucson</td>\n",
       "      <td>2017</td>\n",
       "      <td>15000</td>\n",
       "      <td>Manual</td>\n",
       "      <td>23310</td>\n",
       "      <td>Diesel</td>\n",
       "      <td>30</td>\n",
       "      <td>0.0</td>\n",
       "      <td>16.30</td>\n",
       "    </tr>\n",
       "    <tr>\n",
       "      <th>62</th>\n",
       "      <td>Tucson</td>\n",
       "      <td>2019</td>\n",
       "      <td>15000</td>\n",
       "      <td>Manual</td>\n",
       "      <td>22397</td>\n",
       "      <td>Petrol</td>\n",
       "      <td>150</td>\n",
       "      <td>0.0</td>\n",
       "      <td>9.22</td>\n",
       "    </tr>\n",
       "    <tr>\n",
       "      <th>63</th>\n",
       "      <td>Tucson</td>\n",
       "      <td>2019</td>\n",
       "      <td>16300</td>\n",
       "      <td>Manual</td>\n",
       "      <td>10066</td>\n",
       "      <td>Petrol</td>\n",
       "      <td>150</td>\n",
       "      <td>0.0</td>\n",
       "      <td>9.22</td>\n",
       "    </tr>\n",
       "    <tr>\n",
       "      <th>64</th>\n",
       "      <td>I10</td>\n",
       "      <td>2018</td>\n",
       "      <td>8300</td>\n",
       "      <td>Manual</td>\n",
       "      <td>13148</td>\n",
       "      <td>Petrol</td>\n",
       "      <td>150</td>\n",
       "      <td>0.0</td>\n",
       "      <td>15.88</td>\n",
       "    </tr>\n",
       "    <tr>\n",
       "      <th>65</th>\n",
       "      <td>I800</td>\n",
       "      <td>2019</td>\n",
       "      <td>18500</td>\n",
       "      <td>Manual</td>\n",
       "      <td>7691</td>\n",
       "      <td>Diesel</td>\n",
       "      <td>150</td>\n",
       "      <td>0.0</td>\n",
       "      <td>8.37</td>\n",
       "    </tr>\n",
       "    <tr>\n",
       "      <th>72</th>\n",
       "      <td>I10</td>\n",
       "      <td>2017</td>\n",
       "      <td>7300</td>\n",
       "      <td>Manual</td>\n",
       "      <td>15594</td>\n",
       "      <td>Petrol</td>\n",
       "      <td>20</td>\n",
       "      <td>0.0</td>\n",
       "      <td>15.88</td>\n",
       "    </tr>\n",
       "    <tr>\n",
       "      <th>73</th>\n",
       "      <td>I20</td>\n",
       "      <td>2015</td>\n",
       "      <td>7500</td>\n",
       "      <td>Manual</td>\n",
       "      <td>28123</td>\n",
       "      <td>Petrol</td>\n",
       "      <td>30</td>\n",
       "      <td>0.0</td>\n",
       "      <td>14.93</td>\n",
       "    </tr>\n",
       "    <tr>\n",
       "      <th>75</th>\n",
       "      <td>I10</td>\n",
       "      <td>2015</td>\n",
       "      <td>7500</td>\n",
       "      <td>Manual</td>\n",
       "      <td>13637</td>\n",
       "      <td>Petrol</td>\n",
       "      <td>30</td>\n",
       "      <td>0.0</td>\n",
       "      <td>15.22</td>\n",
       "    </tr>\n",
       "    <tr>\n",
       "      <th>76</th>\n",
       "      <td>Tucson</td>\n",
       "      <td>2017</td>\n",
       "      <td>15700</td>\n",
       "      <td>Automatic</td>\n",
       "      <td>7457</td>\n",
       "      <td>Diesel</td>\n",
       "      <td>125</td>\n",
       "      <td>0.0</td>\n",
       "      <td>15.22</td>\n",
       "    </tr>\n",
       "    <tr>\n",
       "      <th>77</th>\n",
       "      <td>I20</td>\n",
       "      <td>2017</td>\n",
       "      <td>8500</td>\n",
       "      <td>Manual</td>\n",
       "      <td>16708</td>\n",
       "      <td>Petrol</td>\n",
       "      <td>145</td>\n",
       "      <td>0.0</td>\n",
       "      <td>15.56</td>\n",
       "    </tr>\n",
       "    <tr>\n",
       "      <th>82</th>\n",
       "      <td>I10</td>\n",
       "      <td>2017</td>\n",
       "      <td>8000</td>\n",
       "      <td>Manual</td>\n",
       "      <td>16636</td>\n",
       "      <td>Petrol</td>\n",
       "      <td>145</td>\n",
       "      <td>0.0</td>\n",
       "      <td>15.88</td>\n",
       "    </tr>\n",
       "    <tr>\n",
       "      <th>83</th>\n",
       "      <td>I20</td>\n",
       "      <td>2017</td>\n",
       "      <td>8600</td>\n",
       "      <td>Manual</td>\n",
       "      <td>19398</td>\n",
       "      <td>Petrol</td>\n",
       "      <td>30</td>\n",
       "      <td>0.0</td>\n",
       "      <td>15.56</td>\n",
       "    </tr>\n",
       "    <tr>\n",
       "      <th>108</th>\n",
       "      <td>I10</td>\n",
       "      <td>2014</td>\n",
       "      <td>6600</td>\n",
       "      <td>Manual</td>\n",
       "      <td>31090</td>\n",
       "      <td>Petrol</td>\n",
       "      <td>30</td>\n",
       "      <td>0.0</td>\n",
       "      <td>15.22</td>\n",
       "    </tr>\n",
       "    <tr>\n",
       "      <th>119</th>\n",
       "      <td>IX35</td>\n",
       "      <td>2015</td>\n",
       "      <td>9700</td>\n",
       "      <td>Manual</td>\n",
       "      <td>26564</td>\n",
       "      <td>Petrol</td>\n",
       "      <td>200</td>\n",
       "      <td>0.0</td>\n",
       "      <td>10.96</td>\n",
       "    </tr>\n",
       "    <tr>\n",
       "      <th>120</th>\n",
       "      <td>IX35</td>\n",
       "      <td>2014</td>\n",
       "      <td>8700</td>\n",
       "      <td>Manual</td>\n",
       "      <td>54304</td>\n",
       "      <td>Diesel</td>\n",
       "      <td>145</td>\n",
       "      <td>0.0</td>\n",
       "      <td>14.08</td>\n",
       "    </tr>\n",
       "    <tr>\n",
       "      <th>121</th>\n",
       "      <td>I20</td>\n",
       "      <td>2016</td>\n",
       "      <td>7500</td>\n",
       "      <td>Manual</td>\n",
       "      <td>41496</td>\n",
       "      <td>Petrol</td>\n",
       "      <td>30</td>\n",
       "      <td>0.0</td>\n",
       "      <td>14.93</td>\n",
       "    </tr>\n",
       "    <tr>\n",
       "      <th>122</th>\n",
       "      <td>IX20</td>\n",
       "      <td>2014</td>\n",
       "      <td>6500</td>\n",
       "      <td>Manual</td>\n",
       "      <td>38601</td>\n",
       "      <td>Petrol</td>\n",
       "      <td>125</td>\n",
       "      <td>0.0</td>\n",
       "      <td>13.31</td>\n",
       "    </tr>\n",
       "    <tr>\n",
       "      <th>123</th>\n",
       "      <td>I10</td>\n",
       "      <td>2017</td>\n",
       "      <td>7000</td>\n",
       "      <td>Manual</td>\n",
       "      <td>31232</td>\n",
       "      <td>Petrol</td>\n",
       "      <td>145</td>\n",
       "      <td>0.0</td>\n",
       "      <td>15.24</td>\n",
       "    </tr>\n",
       "    <tr>\n",
       "      <th>4243</th>\n",
       "      <td>Tucson</td>\n",
       "      <td>2018</td>\n",
       "      <td>13000</td>\n",
       "      <td>Manual</td>\n",
       "      <td>37079</td>\n",
       "      <td>Petrol</td>\n",
       "      <td>145</td>\n",
       "      <td>0.0</td>\n",
       "      <td>11.83</td>\n",
       "    </tr>\n",
       "    <tr>\n",
       "      <th>4244</th>\n",
       "      <td>I10</td>\n",
       "      <td>2016</td>\n",
       "      <td>6300</td>\n",
       "      <td>Manual</td>\n",
       "      <td>17272</td>\n",
       "      <td>Petrol</td>\n",
       "      <td>20</td>\n",
       "      <td>0.0</td>\n",
       "      <td>16.22</td>\n",
       "    </tr>\n",
       "    <tr>\n",
       "      <th>4246</th>\n",
       "      <td>I10</td>\n",
       "      <td>2013</td>\n",
       "      <td>5000</td>\n",
       "      <td>Manual</td>\n",
       "      <td>28520</td>\n",
       "      <td>Petrol</td>\n",
       "      <td>20</td>\n",
       "      <td>0.0</td>\n",
       "      <td>16.22</td>\n",
       "    </tr>\n",
       "    <tr>\n",
       "      <th>4286</th>\n",
       "      <td>Tucson</td>\n",
       "      <td>2016</td>\n",
       "      <td>11500</td>\n",
       "      <td>Manual</td>\n",
       "      <td>52455</td>\n",
       "      <td>Diesel</td>\n",
       "      <td>30</td>\n",
       "      <td>0.0</td>\n",
       "      <td>16.30</td>\n",
       "    </tr>\n",
       "    <tr>\n",
       "      <th>4290</th>\n",
       "      <td>I800</td>\n",
       "      <td>2018</td>\n",
       "      <td>15500</td>\n",
       "      <td>Manual</td>\n",
       "      <td>31312</td>\n",
       "      <td>Diesel</td>\n",
       "      <td>145</td>\n",
       "      <td>0.0</td>\n",
       "      <td>8.37</td>\n",
       "    </tr>\n",
       "    <tr>\n",
       "      <th>4292</th>\n",
       "      <td>I10</td>\n",
       "      <td>2015</td>\n",
       "      <td>5300</td>\n",
       "      <td>Manual</td>\n",
       "      <td>47660</td>\n",
       "      <td>Petrol</td>\n",
       "      <td>20</td>\n",
       "      <td>0.0</td>\n",
       "      <td>15.88</td>\n",
       "    </tr>\n",
       "    <tr>\n",
       "      <th>4293</th>\n",
       "      <td>I10</td>\n",
       "      <td>2019</td>\n",
       "      <td>9400</td>\n",
       "      <td>Manual</td>\n",
       "      <td>4419</td>\n",
       "      <td>Petrol</td>\n",
       "      <td>145</td>\n",
       "      <td>0.0</td>\n",
       "      <td>15.88</td>\n",
       "    </tr>\n",
       "    <tr>\n",
       "      <th>4570</th>\n",
       "      <td>I20</td>\n",
       "      <td>2018</td>\n",
       "      <td>7698</td>\n",
       "      <td>Manual</td>\n",
       "      <td>30012</td>\n",
       "      <td>Petrol</td>\n",
       "      <td>145</td>\n",
       "      <td>0.0</td>\n",
       "      <td>14.64</td>\n",
       "    </tr>\n",
       "  </tbody>\n",
       "</table>\n",
       "</div>"
      ],
      "text/plain": [
       "        model  year  price transmission  total_run    fule  tax  engineSize  \\\n",
       "31     Tucson  2015  15200    Automatic      28904  Diesel  200         0.0   \n",
       "32        I10  2014   7700    Automatic       8646  Petrol  160         0.0   \n",
       "33        I30  2017  10500    Automatic      17663  Diesel   20         0.0   \n",
       "34        I20  2017  11400    Automatic      12661  Petrol  145         0.0   \n",
       "37        I10  2018   9000       Manual       7126  Petrol  145         0.0   \n",
       "39        I10  2018   8500       Manual      12948  Petrol  145         0.0   \n",
       "40        I30  2019  14500       Manual       2481  Petrol  145         0.0   \n",
       "41     Tucson  2016  13800       Manual      27311  Diesel   30         0.0   \n",
       "42        I30  2016   9000       Manual      34443  Diesel    0         0.0   \n",
       "43     Tucson  2017  13800       Manual      16961  Diesel   30         0.0   \n",
       "45        I10  2013   5000       Manual      45230  Petrol   20         0.0   \n",
       "46        I10  2018  10300       Manual       6349  Petrol  145         0.0   \n",
       "47        I40  2015  11500       Manual      13268  Diesel   30         0.0   \n",
       "48        I30  2016   9000       Manual      29610  Diesel    0         0.0   \n",
       "49       IX35  2015  11400       Manual      23041  Diesel  165         0.0   \n",
       "50        I20  2017  10000       Manual      21821  Petrol  145         0.0   \n",
       "51        I10  2018   7800       Manual      17397  Petrol  150         0.0   \n",
       "52        I10  2016   6300       Manual      31854  Petrol   20         0.0   \n",
       "53     Tucson  2016  11300       Manual      37993  Diesel   30         0.0   \n",
       "54       I800  2018  15500       Manual      30305  Diesel  145         0.0   \n",
       "55        I20  2018  11700       Manual       3920  Petrol  150         0.0   \n",
       "61     Tucson  2017  15000       Manual      23310  Diesel   30         0.0   \n",
       "62     Tucson  2019  15000       Manual      22397  Petrol  150         0.0   \n",
       "63     Tucson  2019  16300       Manual      10066  Petrol  150         0.0   \n",
       "64        I10  2018   8300       Manual      13148  Petrol  150         0.0   \n",
       "65       I800  2019  18500       Manual       7691  Diesel  150         0.0   \n",
       "72        I10  2017   7300       Manual      15594  Petrol   20         0.0   \n",
       "73        I20  2015   7500       Manual      28123  Petrol   30         0.0   \n",
       "75        I10  2015   7500       Manual      13637  Petrol   30         0.0   \n",
       "76     Tucson  2017  15700    Automatic       7457  Diesel  125         0.0   \n",
       "77        I20  2017   8500       Manual      16708  Petrol  145         0.0   \n",
       "82        I10  2017   8000       Manual      16636  Petrol  145         0.0   \n",
       "83        I20  2017   8600       Manual      19398  Petrol   30         0.0   \n",
       "108       I10  2014   6600       Manual      31090  Petrol   30         0.0   \n",
       "119      IX35  2015   9700       Manual      26564  Petrol  200         0.0   \n",
       "120      IX35  2014   8700       Manual      54304  Diesel  145         0.0   \n",
       "121       I20  2016   7500       Manual      41496  Petrol   30         0.0   \n",
       "122      IX20  2014   6500       Manual      38601  Petrol  125         0.0   \n",
       "123       I10  2017   7000       Manual      31232  Petrol  145         0.0   \n",
       "4243   Tucson  2018  13000       Manual      37079  Petrol  145         0.0   \n",
       "4244      I10  2016   6300       Manual      17272  Petrol   20         0.0   \n",
       "4246      I10  2013   5000       Manual      28520  Petrol   20         0.0   \n",
       "4286   Tucson  2016  11500       Manual      52455  Diesel   30         0.0   \n",
       "4290     I800  2018  15500       Manual      31312  Diesel  145         0.0   \n",
       "4292      I10  2015   5300       Manual      47660  Petrol   20         0.0   \n",
       "4293      I10  2019   9400       Manual       4419  Petrol  145         0.0   \n",
       "4570      I20  2018   7698       Manual      30012  Petrol  145         0.0   \n",
       "\n",
       "      mileage_lit  \n",
       "31          12.23  \n",
       "32          12.05  \n",
       "33          19.13  \n",
       "34          11.65  \n",
       "37          15.88  \n",
       "39          15.88  \n",
       "40          10.96  \n",
       "41          16.30  \n",
       "42          20.71  \n",
       "43          16.30  \n",
       "45          16.22  \n",
       "46          15.22  \n",
       "47          17.36  \n",
       "48          20.71  \n",
       "49          13.58  \n",
       "50          16.22  \n",
       "51          15.88  \n",
       "52          15.88  \n",
       "53          16.30  \n",
       "54           8.37  \n",
       "55          12.23  \n",
       "61          16.30  \n",
       "62           9.22  \n",
       "63           9.22  \n",
       "64          15.88  \n",
       "65           8.37  \n",
       "72          15.88  \n",
       "73          14.93  \n",
       "75          15.22  \n",
       "76          15.22  \n",
       "77          15.56  \n",
       "82          15.88  \n",
       "83          15.56  \n",
       "108         15.22  \n",
       "119         10.96  \n",
       "120         14.08  \n",
       "121         14.93  \n",
       "122         13.31  \n",
       "123         15.24  \n",
       "4243        11.83  \n",
       "4244        16.22  \n",
       "4246        16.22  \n",
       "4286        16.30  \n",
       "4290         8.37  \n",
       "4292        15.88  \n",
       "4293        15.88  \n",
       "4570        14.64  "
      ]
     },
     "execution_count": 27,
     "metadata": {},
     "output_type": "execute_result"
    }
   ],
   "source": [
    "#for engine-size\n",
    "eng_out = df2[df2['engineSize']<0.5]\n",
    "eng_out"
   ]
  },
  {
   "cell_type": "code",
   "execution_count": 28,
   "metadata": {},
   "outputs": [
    {
     "name": "stdout",
     "output_type": "stream",
     "text": [
      "(4839, 9)\n",
      "(4792, 9)\n"
     ]
    }
   ],
   "source": [
    "print(df2.shape)\n",
    "df2 = df2[~(df2['engineSize']<0.5)]\n",
    "print(df2.shape)"
   ]
  },
  {
   "cell_type": "code",
   "execution_count": 29,
   "metadata": {},
   "outputs": [
    {
     "data": {
      "text/html": [
       "<div>\n",
       "<style scoped>\n",
       "    .dataframe tbody tr th:only-of-type {\n",
       "        vertical-align: middle;\n",
       "    }\n",
       "\n",
       "    .dataframe tbody tr th {\n",
       "        vertical-align: top;\n",
       "    }\n",
       "\n",
       "    .dataframe thead th {\n",
       "        text-align: right;\n",
       "    }\n",
       "</style>\n",
       "<table border=\"1\" class=\"dataframe\">\n",
       "  <thead>\n",
       "    <tr style=\"text-align: right;\">\n",
       "      <th></th>\n",
       "      <th>model</th>\n",
       "      <th>year</th>\n",
       "      <th>price</th>\n",
       "      <th>transmission</th>\n",
       "      <th>total_run</th>\n",
       "      <th>fule</th>\n",
       "      <th>tax</th>\n",
       "      <th>engineSize</th>\n",
       "      <th>mileage_lit</th>\n",
       "    </tr>\n",
       "  </thead>\n",
       "  <tbody>\n",
       "    <tr>\n",
       "      <th>210</th>\n",
       "      <td>Ioniq</td>\n",
       "      <td>2019</td>\n",
       "      <td>22998</td>\n",
       "      <td>Automatic</td>\n",
       "      <td>2844</td>\n",
       "      <td>Hybrid</td>\n",
       "      <td>140</td>\n",
       "      <td>1.6</td>\n",
       "      <td>0.29</td>\n",
       "    </tr>\n",
       "    <tr>\n",
       "      <th>808</th>\n",
       "      <td>Ioniq</td>\n",
       "      <td>2020</td>\n",
       "      <td>23895</td>\n",
       "      <td>Automatic</td>\n",
       "      <td>4152</td>\n",
       "      <td>Hybrid</td>\n",
       "      <td>135</td>\n",
       "      <td>1.6</td>\n",
       "      <td>0.29</td>\n",
       "    </tr>\n",
       "    <tr>\n",
       "      <th>1213</th>\n",
       "      <td>Ioniq</td>\n",
       "      <td>2018</td>\n",
       "      <td>18970</td>\n",
       "      <td>Automatic</td>\n",
       "      <td>14886</td>\n",
       "      <td>Hybrid</td>\n",
       "      <td>135</td>\n",
       "      <td>1.6</td>\n",
       "      <td>67.84</td>\n",
       "    </tr>\n",
       "    <tr>\n",
       "      <th>2088</th>\n",
       "      <td>Ioniq</td>\n",
       "      <td>2019</td>\n",
       "      <td>19995</td>\n",
       "      <td>Automatic</td>\n",
       "      <td>7386</td>\n",
       "      <td>Hybrid</td>\n",
       "      <td>135</td>\n",
       "      <td>1.6</td>\n",
       "      <td>67.84</td>\n",
       "    </tr>\n",
       "    <tr>\n",
       "      <th>2215</th>\n",
       "      <td>Ioniq</td>\n",
       "      <td>2018</td>\n",
       "      <td>18999</td>\n",
       "      <td>Automatic</td>\n",
       "      <td>12045</td>\n",
       "      <td>Hybrid</td>\n",
       "      <td>135</td>\n",
       "      <td>1.6</td>\n",
       "      <td>67.84</td>\n",
       "    </tr>\n",
       "    <tr>\n",
       "      <th>2950</th>\n",
       "      <td>Ioniq</td>\n",
       "      <td>2020</td>\n",
       "      <td>26995</td>\n",
       "      <td>Automatic</td>\n",
       "      <td>1290</td>\n",
       "      <td>Hybrid</td>\n",
       "      <td>135</td>\n",
       "      <td>1.6</td>\n",
       "      <td>0.29</td>\n",
       "    </tr>\n",
       "    <tr>\n",
       "      <th>4806</th>\n",
       "      <td>Ioniq</td>\n",
       "      <td>2020</td>\n",
       "      <td>28995</td>\n",
       "      <td>Automatic</td>\n",
       "      <td>5213</td>\n",
       "      <td>Hybrid</td>\n",
       "      <td>135</td>\n",
       "      <td>1.6</td>\n",
       "      <td>0.29</td>\n",
       "    </tr>\n",
       "  </tbody>\n",
       "</table>\n",
       "</div>"
      ],
      "text/plain": [
       "       model  year  price transmission  total_run    fule  tax  engineSize  \\\n",
       "210    Ioniq  2019  22998    Automatic       2844  Hybrid  140         1.6   \n",
       "808    Ioniq  2020  23895    Automatic       4152  Hybrid  135         1.6   \n",
       "1213   Ioniq  2018  18970    Automatic      14886  Hybrid  135         1.6   \n",
       "2088   Ioniq  2019  19995    Automatic       7386  Hybrid  135         1.6   \n",
       "2215   Ioniq  2018  18999    Automatic      12045  Hybrid  135         1.6   \n",
       "2950   Ioniq  2020  26995    Automatic       1290  Hybrid  135         1.6   \n",
       "4806   Ioniq  2020  28995    Automatic       5213  Hybrid  135         1.6   \n",
       "\n",
       "      mileage_lit  \n",
       "210          0.29  \n",
       "808          0.29  \n",
       "1213        67.84  \n",
       "2088        67.84  \n",
       "2215        67.84  \n",
       "2950         0.29  \n",
       "4806         0.29  "
      ]
     },
     "execution_count": 29,
     "metadata": {},
     "output_type": "execute_result"
    }
   ],
   "source": [
    "#for milage\n",
    "mil_out = df2[(df2['mileage_lit']<5) | (df2['mileage_lit']>30)]\n",
    "mil_out"
   ]
  },
  {
   "cell_type": "code",
   "execution_count": 30,
   "metadata": {},
   "outputs": [
    {
     "name": "stdout",
     "output_type": "stream",
     "text": [
      "(4792, 9)\n",
      "(4785, 9)\n"
     ]
    }
   ],
   "source": [
    "print(df2.shape)\n",
    "df2 = df2[~((df2['mileage_lit']>30) | (df2['mileage_lit']<5))]\n",
    "print(df2.shape)"
   ]
  },
  {
   "cell_type": "markdown",
   "metadata": {},
   "source": [
    "# Categorical Variable Encoding"
   ]
  },
  {
   "cell_type": "code",
   "execution_count": 31,
   "metadata": {},
   "outputs": [
    {
     "data": {
      "text/html": [
       "<div>\n",
       "<style scoped>\n",
       "    .dataframe tbody tr th:only-of-type {\n",
       "        vertical-align: middle;\n",
       "    }\n",
       "\n",
       "    .dataframe tbody tr th {\n",
       "        vertical-align: top;\n",
       "    }\n",
       "\n",
       "    .dataframe thead th {\n",
       "        text-align: right;\n",
       "    }\n",
       "</style>\n",
       "<table border=\"1\" class=\"dataframe\">\n",
       "  <thead>\n",
       "    <tr style=\"text-align: right;\">\n",
       "      <th></th>\n",
       "      <th>model</th>\n",
       "      <th>year</th>\n",
       "      <th>price</th>\n",
       "      <th>transmission</th>\n",
       "      <th>total_run</th>\n",
       "      <th>fule</th>\n",
       "      <th>tax</th>\n",
       "      <th>engineSize</th>\n",
       "      <th>mileage_lit</th>\n",
       "    </tr>\n",
       "  </thead>\n",
       "  <tbody>\n",
       "    <tr>\n",
       "      <th>0</th>\n",
       "      <td>I20</td>\n",
       "      <td>2017</td>\n",
       "      <td>7999</td>\n",
       "      <td>Manual</td>\n",
       "      <td>17307</td>\n",
       "      <td>Petrol</td>\n",
       "      <td>145</td>\n",
       "      <td>1.2</td>\n",
       "      <td>15.56</td>\n",
       "    </tr>\n",
       "    <tr>\n",
       "      <th>1</th>\n",
       "      <td>Tucson</td>\n",
       "      <td>2016</td>\n",
       "      <td>14499</td>\n",
       "      <td>Automatic</td>\n",
       "      <td>25233</td>\n",
       "      <td>Diesel</td>\n",
       "      <td>235</td>\n",
       "      <td>2.0</td>\n",
       "      <td>11.49</td>\n",
       "    </tr>\n",
       "    <tr>\n",
       "      <th>2</th>\n",
       "      <td>Tucson</td>\n",
       "      <td>2016</td>\n",
       "      <td>11399</td>\n",
       "      <td>Manual</td>\n",
       "      <td>37877</td>\n",
       "      <td>Diesel</td>\n",
       "      <td>30</td>\n",
       "      <td>1.7</td>\n",
       "      <td>16.30</td>\n",
       "    </tr>\n",
       "    <tr>\n",
       "      <th>3</th>\n",
       "      <td>I10</td>\n",
       "      <td>2016</td>\n",
       "      <td>6499</td>\n",
       "      <td>Manual</td>\n",
       "      <td>23789</td>\n",
       "      <td>Petrol</td>\n",
       "      <td>20</td>\n",
       "      <td>1.0</td>\n",
       "      <td>15.88</td>\n",
       "    </tr>\n",
       "    <tr>\n",
       "      <th>4</th>\n",
       "      <td>IX35</td>\n",
       "      <td>2015</td>\n",
       "      <td>10199</td>\n",
       "      <td>Manual</td>\n",
       "      <td>33177</td>\n",
       "      <td>Diesel</td>\n",
       "      <td>160</td>\n",
       "      <td>2.0</td>\n",
       "      <td>13.58</td>\n",
       "    </tr>\n",
       "  </tbody>\n",
       "</table>\n",
       "</div>"
      ],
      "text/plain": [
       "     model  year  price transmission  total_run    fule  tax  engineSize  \\\n",
       "0      I20  2017   7999       Manual      17307  Petrol  145         1.2   \n",
       "1   Tucson  2016  14499    Automatic      25233  Diesel  235         2.0   \n",
       "2   Tucson  2016  11399       Manual      37877  Diesel   30         1.7   \n",
       "3      I10  2016   6499       Manual      23789  Petrol   20         1.0   \n",
       "4     IX35  2015  10199       Manual      33177  Diesel  160         2.0   \n",
       "\n",
       "   mileage_lit  \n",
       "0        15.56  \n",
       "1        11.49  \n",
       "2        16.30  \n",
       "3        15.88  \n",
       "4        13.58  "
      ]
     },
     "execution_count": 31,
     "metadata": {},
     "output_type": "execute_result"
    }
   ],
   "source": [
    "df2.head()"
   ]
  },
  {
   "cell_type": "code",
   "execution_count": 32,
   "metadata": {},
   "outputs": [
    {
     "data": {
      "text/plain": [
       "Manual       3553\n",
       "Automatic     652\n",
       "Semi-Auto     578\n",
       "Other           2\n",
       "Name: transmission, dtype: int64"
      ]
     },
     "execution_count": 32,
     "metadata": {},
     "output_type": "execute_result"
    }
   ],
   "source": [
    "df2['transmission'].value_counts()"
   ]
  },
  {
   "cell_type": "code",
   "execution_count": 33,
   "metadata": {},
   "outputs": [],
   "source": [
    "df2 = df2[~(df2['transmission']==\"Other\")]"
   ]
  },
  {
   "cell_type": "code",
   "execution_count": 34,
   "metadata": {},
   "outputs": [
    {
     "data": {
      "text/plain": [
       "Manual       3553\n",
       "Automatic     652\n",
       "Semi-Auto     578\n",
       "Name: transmission, dtype: int64"
      ]
     },
     "execution_count": 34,
     "metadata": {},
     "output_type": "execute_result"
    }
   ],
   "source": [
    "df2['transmission'].value_counts()"
   ]
  },
  {
   "cell_type": "code",
   "execution_count": 35,
   "metadata": {},
   "outputs": [
    {
     "data": {
      "text/plain": [
       "Petrol    2855\n",
       "Diesel    1586\n",
       "Hybrid     341\n",
       "Other        1\n",
       "Name: fule, dtype: int64"
      ]
     },
     "execution_count": 35,
     "metadata": {},
     "output_type": "execute_result"
    }
   ],
   "source": [
    "df2['fule'].value_counts()"
   ]
  },
  {
   "cell_type": "code",
   "execution_count": 36,
   "metadata": {},
   "outputs": [],
   "source": [
    "df2 = df2[~(df2['fule']==\"Other\")]"
   ]
  },
  {
   "cell_type": "code",
   "execution_count": 37,
   "metadata": {},
   "outputs": [
    {
     "data": {
      "text/plain": [
       "Petrol    2855\n",
       "Diesel    1586\n",
       "Hybrid     341\n",
       "Name: fule, dtype: int64"
      ]
     },
     "execution_count": 37,
     "metadata": {},
     "output_type": "execute_result"
    }
   ],
   "source": [
    "df2['fule'].value_counts()"
   ]
  },
  {
   "cell_type": "code",
   "execution_count": 38,
   "metadata": {},
   "outputs": [
    {
     "data": {
      "text/html": [
       "<div>\n",
       "<style scoped>\n",
       "    .dataframe tbody tr th:only-of-type {\n",
       "        vertical-align: middle;\n",
       "    }\n",
       "\n",
       "    .dataframe tbody tr th {\n",
       "        vertical-align: top;\n",
       "    }\n",
       "\n",
       "    .dataframe thead th {\n",
       "        text-align: right;\n",
       "    }\n",
       "</style>\n",
       "<table border=\"1\" class=\"dataframe\">\n",
       "  <thead>\n",
       "    <tr style=\"text-align: right;\">\n",
       "      <th></th>\n",
       "      <th>year</th>\n",
       "      <th>price</th>\n",
       "      <th>total_run</th>\n",
       "      <th>tax</th>\n",
       "      <th>engineSize</th>\n",
       "      <th>mileage_lit</th>\n",
       "      <th>model_ I10</th>\n",
       "      <th>model_ I20</th>\n",
       "      <th>model_ I30</th>\n",
       "      <th>model_ I40</th>\n",
       "      <th>...</th>\n",
       "      <th>model_ Ioniq</th>\n",
       "      <th>model_ Kona</th>\n",
       "      <th>model_ Santa Fe</th>\n",
       "      <th>model_ Tucson</th>\n",
       "      <th>transmission_Automatic</th>\n",
       "      <th>transmission_Manual</th>\n",
       "      <th>transmission_Semi-Auto</th>\n",
       "      <th>fule_Diesel</th>\n",
       "      <th>fule_Hybrid</th>\n",
       "      <th>fule_Petrol</th>\n",
       "    </tr>\n",
       "  </thead>\n",
       "  <tbody>\n",
       "    <tr>\n",
       "      <th>0</th>\n",
       "      <td>2017</td>\n",
       "      <td>7999</td>\n",
       "      <td>17307</td>\n",
       "      <td>145</td>\n",
       "      <td>1.2</td>\n",
       "      <td>15.56</td>\n",
       "      <td>0</td>\n",
       "      <td>1</td>\n",
       "      <td>0</td>\n",
       "      <td>0</td>\n",
       "      <td>...</td>\n",
       "      <td>0</td>\n",
       "      <td>0</td>\n",
       "      <td>0</td>\n",
       "      <td>0</td>\n",
       "      <td>0</td>\n",
       "      <td>1</td>\n",
       "      <td>0</td>\n",
       "      <td>0</td>\n",
       "      <td>0</td>\n",
       "      <td>1</td>\n",
       "    </tr>\n",
       "    <tr>\n",
       "      <th>1</th>\n",
       "      <td>2016</td>\n",
       "      <td>14499</td>\n",
       "      <td>25233</td>\n",
       "      <td>235</td>\n",
       "      <td>2.0</td>\n",
       "      <td>11.49</td>\n",
       "      <td>0</td>\n",
       "      <td>0</td>\n",
       "      <td>0</td>\n",
       "      <td>0</td>\n",
       "      <td>...</td>\n",
       "      <td>0</td>\n",
       "      <td>0</td>\n",
       "      <td>0</td>\n",
       "      <td>1</td>\n",
       "      <td>1</td>\n",
       "      <td>0</td>\n",
       "      <td>0</td>\n",
       "      <td>1</td>\n",
       "      <td>0</td>\n",
       "      <td>0</td>\n",
       "    </tr>\n",
       "    <tr>\n",
       "      <th>2</th>\n",
       "      <td>2016</td>\n",
       "      <td>11399</td>\n",
       "      <td>37877</td>\n",
       "      <td>30</td>\n",
       "      <td>1.7</td>\n",
       "      <td>16.30</td>\n",
       "      <td>0</td>\n",
       "      <td>0</td>\n",
       "      <td>0</td>\n",
       "      <td>0</td>\n",
       "      <td>...</td>\n",
       "      <td>0</td>\n",
       "      <td>0</td>\n",
       "      <td>0</td>\n",
       "      <td>1</td>\n",
       "      <td>0</td>\n",
       "      <td>1</td>\n",
       "      <td>0</td>\n",
       "      <td>1</td>\n",
       "      <td>0</td>\n",
       "      <td>0</td>\n",
       "    </tr>\n",
       "    <tr>\n",
       "      <th>3</th>\n",
       "      <td>2016</td>\n",
       "      <td>6499</td>\n",
       "      <td>23789</td>\n",
       "      <td>20</td>\n",
       "      <td>1.0</td>\n",
       "      <td>15.88</td>\n",
       "      <td>1</td>\n",
       "      <td>0</td>\n",
       "      <td>0</td>\n",
       "      <td>0</td>\n",
       "      <td>...</td>\n",
       "      <td>0</td>\n",
       "      <td>0</td>\n",
       "      <td>0</td>\n",
       "      <td>0</td>\n",
       "      <td>0</td>\n",
       "      <td>1</td>\n",
       "      <td>0</td>\n",
       "      <td>0</td>\n",
       "      <td>0</td>\n",
       "      <td>1</td>\n",
       "    </tr>\n",
       "    <tr>\n",
       "      <th>4</th>\n",
       "      <td>2015</td>\n",
       "      <td>10199</td>\n",
       "      <td>33177</td>\n",
       "      <td>160</td>\n",
       "      <td>2.0</td>\n",
       "      <td>13.58</td>\n",
       "      <td>0</td>\n",
       "      <td>0</td>\n",
       "      <td>0</td>\n",
       "      <td>0</td>\n",
       "      <td>...</td>\n",
       "      <td>0</td>\n",
       "      <td>0</td>\n",
       "      <td>0</td>\n",
       "      <td>0</td>\n",
       "      <td>0</td>\n",
       "      <td>1</td>\n",
       "      <td>0</td>\n",
       "      <td>1</td>\n",
       "      <td>0</td>\n",
       "      <td>0</td>\n",
       "    </tr>\n",
       "  </tbody>\n",
       "</table>\n",
       "<p>5 rows × 23 columns</p>\n",
       "</div>"
      ],
      "text/plain": [
       "   year  price  total_run  tax  engineSize  mileage_lit  model_ I10  \\\n",
       "0  2017   7999      17307  145         1.2        15.56           0   \n",
       "1  2016  14499      25233  235         2.0        11.49           0   \n",
       "2  2016  11399      37877   30         1.7        16.30           0   \n",
       "3  2016   6499      23789   20         1.0        15.88           1   \n",
       "4  2015  10199      33177  160         2.0        13.58           0   \n",
       "\n",
       "   model_ I20  model_ I30  model_ I40  ...  model_ Ioniq  model_ Kona  \\\n",
       "0           1           0           0  ...             0            0   \n",
       "1           0           0           0  ...             0            0   \n",
       "2           0           0           0  ...             0            0   \n",
       "3           0           0           0  ...             0            0   \n",
       "4           0           0           0  ...             0            0   \n",
       "\n",
       "   model_ Santa Fe  model_ Tucson  transmission_Automatic  \\\n",
       "0                0              0                       0   \n",
       "1                0              1                       1   \n",
       "2                0              1                       0   \n",
       "3                0              0                       0   \n",
       "4                0              0                       0   \n",
       "\n",
       "   transmission_Manual  transmission_Semi-Auto  fule_Diesel  fule_Hybrid  \\\n",
       "0                    1                       0            0            0   \n",
       "1                    0                       0            1            0   \n",
       "2                    1                       0            1            0   \n",
       "3                    1                       0            0            0   \n",
       "4                    1                       0            1            0   \n",
       "\n",
       "   fule_Petrol  \n",
       "0            1  \n",
       "1            0  \n",
       "2            0  \n",
       "3            1  \n",
       "4            0  \n",
       "\n",
       "[5 rows x 23 columns]"
      ]
     },
     "execution_count": 38,
     "metadata": {},
     "output_type": "execute_result"
    }
   ],
   "source": [
    "df3 = pd.get_dummies(df2)\n",
    "df3.head()"
   ]
  },
  {
   "cell_type": "code",
   "execution_count": 39,
   "metadata": {},
   "outputs": [
    {
     "data": {
      "text/html": [
       "<div>\n",
       "<style scoped>\n",
       "    .dataframe tbody tr th:only-of-type {\n",
       "        vertical-align: middle;\n",
       "    }\n",
       "\n",
       "    .dataframe tbody tr th {\n",
       "        vertical-align: top;\n",
       "    }\n",
       "\n",
       "    .dataframe thead th {\n",
       "        text-align: right;\n",
       "    }\n",
       "</style>\n",
       "<table border=\"1\" class=\"dataframe\">\n",
       "  <thead>\n",
       "    <tr style=\"text-align: right;\">\n",
       "      <th></th>\n",
       "      <th>year</th>\n",
       "      <th>price</th>\n",
       "      <th>total_run</th>\n",
       "      <th>tax</th>\n",
       "      <th>engineSize</th>\n",
       "      <th>mileage_lit</th>\n",
       "    </tr>\n",
       "  </thead>\n",
       "  <tbody>\n",
       "    <tr>\n",
       "      <th>year</th>\n",
       "      <td>1.000000</td>\n",
       "      <td>0.590178</td>\n",
       "      <td>-0.717455</td>\n",
       "      <td>0.330288</td>\n",
       "      <td>-0.038196</td>\n",
       "      <td>-0.235456</td>\n",
       "    </tr>\n",
       "    <tr>\n",
       "      <th>price</th>\n",
       "      <td>0.590178</td>\n",
       "      <td>1.000000</td>\n",
       "      <td>-0.447537</td>\n",
       "      <td>0.339998</td>\n",
       "      <td>0.567134</td>\n",
       "      <td>-0.368965</td>\n",
       "    </tr>\n",
       "    <tr>\n",
       "      <th>total_run</th>\n",
       "      <td>-0.717455</td>\n",
       "      <td>-0.447537</td>\n",
       "      <td>1.000000</td>\n",
       "      <td>-0.231700</td>\n",
       "      <td>0.192163</td>\n",
       "      <td>0.215481</td>\n",
       "    </tr>\n",
       "    <tr>\n",
       "      <th>tax</th>\n",
       "      <td>0.330288</td>\n",
       "      <td>0.339998</td>\n",
       "      <td>-0.231700</td>\n",
       "      <td>1.000000</td>\n",
       "      <td>0.218591</td>\n",
       "      <td>-0.492583</td>\n",
       "    </tr>\n",
       "    <tr>\n",
       "      <th>engineSize</th>\n",
       "      <td>-0.038196</td>\n",
       "      <td>0.567134</td>\n",
       "      <td>0.192163</td>\n",
       "      <td>0.218591</td>\n",
       "      <td>1.000000</td>\n",
       "      <td>-0.246827</td>\n",
       "    </tr>\n",
       "    <tr>\n",
       "      <th>mileage_lit</th>\n",
       "      <td>-0.235456</td>\n",
       "      <td>-0.368965</td>\n",
       "      <td>0.215481</td>\n",
       "      <td>-0.492583</td>\n",
       "      <td>-0.246827</td>\n",
       "      <td>1.000000</td>\n",
       "    </tr>\n",
       "  </tbody>\n",
       "</table>\n",
       "</div>"
      ],
      "text/plain": [
       "                 year     price  total_run       tax  engineSize  mileage_lit\n",
       "year         1.000000  0.590178  -0.717455  0.330288   -0.038196    -0.235456\n",
       "price        0.590178  1.000000  -0.447537  0.339998    0.567134    -0.368965\n",
       "total_run   -0.717455 -0.447537   1.000000 -0.231700    0.192163     0.215481\n",
       "tax          0.330288  0.339998  -0.231700  1.000000    0.218591    -0.492583\n",
       "engineSize  -0.038196  0.567134   0.192163  0.218591    1.000000    -0.246827\n",
       "mileage_lit -0.235456 -0.368965   0.215481 -0.492583   -0.246827     1.000000"
      ]
     },
     "execution_count": 39,
     "metadata": {},
     "output_type": "execute_result"
    }
   ],
   "source": [
    "df2.corr()"
   ]
  },
  {
   "cell_type": "code",
   "execution_count": 40,
   "metadata": {},
   "outputs": [],
   "source": [
    "df3.to_csv(\"C:\\\\Users\\\\Sneh\\\\Documents\\\\Project\\\\Hyundai\\\\data\\\\Hyundai_ml.csv\")"
   ]
  },
  {
   "cell_type": "markdown",
   "metadata": {},
   "source": [
    "# Fit ML Model"
   ]
  },
  {
   "cell_type": "code",
   "execution_count": 41,
   "metadata": {},
   "outputs": [],
   "source": [
    "from sklearn.model_selection import train_test_split"
   ]
  },
  {
   "cell_type": "code",
   "execution_count": 42,
   "metadata": {},
   "outputs": [
    {
     "data": {
      "text/plain": [
       "((4782, 22), (4782,))"
      ]
     },
     "execution_count": 42,
     "metadata": {},
     "output_type": "execute_result"
    }
   ],
   "source": [
    "x = df3.drop('price',axis=1)\n",
    "y = df3['price']\n",
    "x.shape,y.shape"
   ]
  },
  {
   "cell_type": "code",
   "execution_count": 43,
   "metadata": {},
   "outputs": [],
   "source": [
    "x_train , x_test , y_train , y_test = train_test_split(x,y,test_size=0.2,random_state=51)"
   ]
  },
  {
   "cell_type": "markdown",
   "metadata": {},
   "source": [
    "### Feature Scalling"
   ]
  },
  {
   "cell_type": "code",
   "execution_count": 44,
   "metadata": {},
   "outputs": [],
   "source": [
    "from sklearn.preprocessing import StandardScaler\n",
    "sc = StandardScaler()"
   ]
  },
  {
   "cell_type": "code",
   "execution_count": 52,
   "metadata": {},
   "outputs": [],
   "source": [
    "q = sc.fit(x_train)\n",
    "x_train = sc.transform(x_train)\n",
    "x_test = sc.transform(x_test)"
   ]
  },
  {
   "cell_type": "markdown",
   "metadata": {},
   "source": [
    "### Linear Regression"
   ]
  },
  {
   "cell_type": "code",
   "execution_count": 53,
   "metadata": {},
   "outputs": [],
   "source": [
    "from sklearn.linear_model import LinearRegression\n",
    "from sklearn.linear_model import Lasso\n",
    "from sklearn.linear_model import Ridge\n",
    "from sklearn.metrics import mean_squared_error\n",
    "from sklearn.metrics import r2_score"
   ]
  },
  {
   "cell_type": "code",
   "execution_count": 54,
   "metadata": {},
   "outputs": [],
   "source": [
    "lr = LinearRegression()\n",
    "lasso = Lasso()\n",
    "ridge = Ridge()"
   ]
  },
  {
   "cell_type": "code",
   "execution_count": 55,
   "metadata": {},
   "outputs": [],
   "source": [
    "def rmse(x_test,y_pred):\n",
    "    return np.sqrt(mean_squared_error(x_test,y_pred))"
   ]
  },
  {
   "cell_type": "code",
   "execution_count": 56,
   "metadata": {},
   "outputs": [],
   "source": [
    "lr.fit(x_train,y_train)\n",
    "y_train_pred = lr.predict(x_train)\n",
    "y_test_pred = lr.predict(x_test)"
   ]
  },
  {
   "cell_type": "code",
   "execution_count": 57,
   "metadata": {},
   "outputs": [
    {
     "data": {
      "text/plain": [
       "(0.8909571704747887, 0.8973789025846256)"
      ]
     },
     "execution_count": 57,
     "metadata": {},
     "output_type": "execute_result"
    }
   ],
   "source": [
    "lr_score = lr.score(x_test,y_test)\n",
    "lr_score_test = lr.score(x_train,y_train)\n",
    "lr_score,lr_score_test"
   ]
  },
  {
   "cell_type": "code",
   "execution_count": 58,
   "metadata": {},
   "outputs": [
    {
     "name": "stdout",
     "output_type": "stream",
     "text": [
      "Train data r2 Score: 0.8973789025846256\n",
      "Test data r2 Score: 0.8909571704747887\n"
     ]
    }
   ],
   "source": [
    "print(\"Train data r2 Score:\",r2_score(y_train,y_train_pred))\n",
    "print(\"Test data r2 Score:\",r2_score(y_test,y_test_pred))"
   ]
  },
  {
   "cell_type": "code",
   "execution_count": 62,
   "metadata": {},
   "outputs": [
    {
     "name": "stdout",
     "output_type": "stream",
     "text": [
      "Error: 1960.9665768299478\n",
      "Error: 1873.973523480519\n"
     ]
    }
   ],
   "source": [
    "print(\"Error:\",rmse(y_test,y_test_pred))\n",
    "print(\"Error:\",rmse(y_train,y_train_pred))"
   ]
  },
  {
   "cell_type": "markdown",
   "metadata": {},
   "source": [
    "From Linear Regression model we can achive 89.7% efficency on train data and 89% efficency on test data"
   ]
  },
  {
   "cell_type": "code",
   "execution_count": 65,
   "metadata": {},
   "outputs": [],
   "source": [
    "lasso.fit(x_train,y_train)\n",
    "y_train_pred_lasso = lasso.predict(x_train)\n",
    "y_test_pred_lasso = lasso.predict(x_test)"
   ]
  },
  {
   "cell_type": "code",
   "execution_count": 66,
   "metadata": {},
   "outputs": [
    {
     "name": "stdout",
     "output_type": "stream",
     "text": [
      "Train data r2 Score: 0.8974195373126269\n",
      "Test data r2 Score: 0.891036072353477\n"
     ]
    }
   ],
   "source": [
    "print(\"Train data r2 Score:\",r2_score(y_train,y_train_pred_lasso))\n",
    "print(\"Test data r2 Score:\",r2_score(y_test,y_test_pred_lasso))"
   ]
  },
  {
   "cell_type": "code",
   "execution_count": 67,
   "metadata": {},
   "outputs": [
    {
     "name": "stdout",
     "output_type": "stream",
     "text": [
      "Error: 1960.2569843386902\n",
      "Error: 1873.6024694481973\n"
     ]
    }
   ],
   "source": [
    "print(\"Error:\",rmse(y_test,y_test_pred_lasso))\n",
    "print(\"Error:\",rmse(y_train,y_train_pred_lasso))"
   ]
  },
  {
   "cell_type": "code",
   "execution_count": 68,
   "metadata": {},
   "outputs": [],
   "source": [
    "ridge.fit(x_train,y_train)\n",
    "y_train_pred_ridge = lasso.predict(x_train)\n",
    "y_test_pred_ridge = lasso.predict(x_test)"
   ]
  },
  {
   "cell_type": "code",
   "execution_count": 69,
   "metadata": {},
   "outputs": [
    {
     "name": "stdout",
     "output_type": "stream",
     "text": [
      "Train data r2 Score: 0.8974195373126269\n",
      "Test data r2 Score: 0.891036072353477\n"
     ]
    }
   ],
   "source": [
    "print(\"Train data r2 Score:\",r2_score(y_train,y_train_pred_ridge))\n",
    "print(\"Test data r2 Score:\",r2_score(y_test,y_test_pred_ridge))"
   ]
  },
  {
   "cell_type": "code",
   "execution_count": 70,
   "metadata": {},
   "outputs": [
    {
     "name": "stdout",
     "output_type": "stream",
     "text": [
      "Error: 1960.2569843386902\n",
      "Error: 1873.6024694481973\n"
     ]
    }
   ],
   "source": [
    "print(\"Error:\",rmse(y_test,y_test_pred_ridge))\n",
    "print(\"Error:\",rmse(y_train,y_train_pred_ridge))"
   ]
  },
  {
   "cell_type": "markdown",
   "metadata": {},
   "source": [
    "### Suport Vector Machine"
   ]
  },
  {
   "cell_type": "code",
   "execution_count": 72,
   "metadata": {},
   "outputs": [
    {
     "data": {
      "text/plain": [
       "SVR()"
      ]
     },
     "execution_count": 72,
     "metadata": {},
     "output_type": "execute_result"
    }
   ],
   "source": [
    "from sklearn.svm import SVR\n",
    "svr = SVR()\n",
    "svr.fit(x_train,y_train)"
   ]
  },
  {
   "cell_type": "code",
   "execution_count": 74,
   "metadata": {},
   "outputs": [
    {
     "name": "stdout",
     "output_type": "stream",
     "text": [
      "Train data r2 Score: 0.036290405207857535\n",
      "Test data r2 Score: 0.03950370237577561\n",
      "Error: 5819.9530731190125\n",
      "Error: 5742.727577376083\n"
     ]
    }
   ],
   "source": [
    "y_train_pred_svm = svr.predict(x_train)\n",
    "y_test_pred_svm = svr.predict(x_test)\n",
    "print(\"Train data r2 Score:\",r2_score(y_train,y_train_pred_svm))\n",
    "print(\"Test data r2 Score:\",r2_score(y_test,y_test_pred_svm))\n",
    "print(\"Error:\",rmse(y_test,y_test_pred_svm))\n",
    "print(\"Error:\",rmse(y_train,y_train_pred_svm))"
   ]
  },
  {
   "cell_type": "markdown",
   "metadata": {},
   "source": [
    "SVM is not good for our data"
   ]
  },
  {
   "cell_type": "markdown",
   "metadata": {},
   "source": [
    "### Random Forest Regressor"
   ]
  },
  {
   "cell_type": "code",
   "execution_count": 75,
   "metadata": {},
   "outputs": [],
   "source": [
    "from sklearn.ensemble import RandomForestRegressor"
   ]
  },
  {
   "cell_type": "code",
   "execution_count": 76,
   "metadata": {},
   "outputs": [
    {
     "name": "stdout",
     "output_type": "stream",
     "text": [
      "Train data r2 Score: 0.9931474035112262\n",
      "Test data r2 Score: 0.9584866100327065\n",
      "Error: 1209.9452944576055\n",
      "Error: 484.25342719771197\n"
     ]
    }
   ],
   "source": [
    "rfr = RandomForestRegressor()\n",
    "rfr.fit(x_train,y_train)\n",
    "\n",
    "y_train_pred_rfr = rfr.predict(x_train)\n",
    "y_test_pred_rfr = rfr.predict(x_test)\n",
    "\n",
    "print(\"Train data r2 Score:\",r2_score(y_train,y_train_pred_rfr))\n",
    "print(\"Test data r2 Score:\",r2_score(y_test,y_test_pred_rfr))\n",
    "print(\"Error:\",rmse(y_test,y_test_pred_rfr))\n",
    "print(\"Error:\",rmse(y_train,y_train_pred_rfr))"
   ]
  },
  {
   "cell_type": "markdown",
   "metadata": {},
   "source": [
    "Above R2 scores shows that RandomForestRegressor is most effective ML model"
   ]
  },
  {
   "cell_type": "code",
   "execution_count": 79,
   "metadata": {},
   "outputs": [
    {
     "data": {
      "text/plain": [
       "['year',\n",
       " 'total_run',\n",
       " 'tax',\n",
       " 'engineSize',\n",
       " 'mileage_lit',\n",
       " 'model_ I10',\n",
       " 'model_ I20',\n",
       " 'model_ I30',\n",
       " 'model_ I40',\n",
       " 'model_ I800',\n",
       " 'model_ IX20',\n",
       " 'model_ IX35',\n",
       " 'model_ Ioniq',\n",
       " 'model_ Kona',\n",
       " 'model_ Santa Fe',\n",
       " 'model_ Tucson',\n",
       " 'transmission_Automatic',\n",
       " 'transmission_Manual',\n",
       " 'transmission_Semi-Auto',\n",
       " 'fule_Diesel',\n",
       " 'fule_Hybrid',\n",
       " 'fule_Petrol']"
      ]
     },
     "execution_count": 79,
     "metadata": {},
     "output_type": "execute_result"
    }
   ],
   "source": [
    "list(x.columns)"
   ]
  },
  {
   "cell_type": "markdown",
   "metadata": {},
   "source": [
    "## Test Model "
   ]
  },
  {
   "cell_type": "code",
   "execution_count": 105,
   "metadata": {},
   "outputs": [],
   "source": [
    "def car_price(year,total_run,tax,engineSize,mileage,car_model,trans,fule):\n",
    "    \n",
    "    arr = np.zeros(len(x.columns))\n",
    "    \n",
    "    arr[0] = year\n",
    "    arr[1] = total_run\n",
    "    arr[2] = tax\n",
    "    arr[3] = engineSize\n",
    "    arr[4] = mileage\n",
    "    \n",
    "    if \"model_ \" + car_model in x.columns:\n",
    "        index = np.where(x.columns == \"model_ \" + car_model)\n",
    "        arr[index]=1\n",
    "        \n",
    "    if \"transmission_\" + trans in x.columns:\n",
    "        index = np.where(x.columns == \"transmission_\" + trans)\n",
    "        arr[index]=1\n",
    "        \n",
    "    if \"fule_\" + fule in x.columns:\n",
    "        index = np.where(x.columns == \"fule_\" + fule)\n",
    "        arr[index]=1\n",
    "    \n",
    "    arr = sc.transform([arr])\n",
    "    \n",
    "    \n",
    "    return rfr.predict(arr)[0]"
   ]
  },
  {
   "cell_type": "code",
   "execution_count": 106,
   "metadata": {},
   "outputs": [],
   "source": [
    "xyz = car_price(2015,56000,75,1.5,12.5,\"I20\",\"Manual\",\"Petrol\")"
   ]
  },
  {
   "cell_type": "code",
   "execution_count": 107,
   "metadata": {},
   "outputs": [
    {
     "data": {
      "text/plain": [
       "6805.67"
      ]
     },
     "execution_count": 107,
     "metadata": {},
     "output_type": "execute_result"
    }
   ],
   "source": [
    "xyz"
   ]
  },
  {
   "cell_type": "markdown",
   "metadata": {},
   "source": [
    "### Save and Load Model "
   ]
  },
  {
   "cell_type": "code",
   "execution_count": 108,
   "metadata": {},
   "outputs": [
    {
     "data": {
      "text/plain": [
       "['hyundai_ml_model.pkl']"
      ]
     },
     "execution_count": 108,
     "metadata": {},
     "output_type": "execute_result"
    }
   ],
   "source": [
    "import joblib\n",
    "\n",
    "joblib.dump(rfr,'hyundai_ml_model.pkl')"
   ]
  },
  {
   "cell_type": "code",
   "execution_count": null,
   "metadata": {},
   "outputs": [],
   "source": []
  }
 ],
 "metadata": {
  "kernelspec": {
   "display_name": "Python 3",
   "language": "python",
   "name": "python3"
  },
  "language_info": {
   "codemirror_mode": {
    "name": "ipython",
    "version": 3
   },
   "file_extension": ".py",
   "mimetype": "text/x-python",
   "name": "python",
   "nbconvert_exporter": "python",
   "pygments_lexer": "ipython3",
   "version": "3.8.5"
  }
 },
 "nbformat": 4,
 "nbformat_minor": 4
}
